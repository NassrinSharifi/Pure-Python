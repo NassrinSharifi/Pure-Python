{
 "cells": [
  {
   "cell_type": "code",
   "execution_count": 1,
   "metadata": {
    "collapsed": true,
    "ExecuteTime": {
     "end_time": "2023-06-14T11:12:45.614450600Z",
     "start_time": "2023-06-14T11:12:41.659239700Z"
    }
   },
   "outputs": [],
   "source": [
    "import pandas as pd\n",
    "import numpy as np"
   ]
  },
  {
   "cell_type": "code",
   "execution_count": 33,
   "outputs": [
    {
     "name": "stdout",
     "output_type": "stream",
     "text": [
      "Your GPA in USA scale is: 3.79\n"
     ]
    }
   ],
   "source": [
    "file_name=input(\"Enter your file name \")\n",
    "file = open(r'E:\\Python Projects\\07-TOEFL\\00-Scores.csv')\n",
    "data = pd.read_csv(\"00-Scores.csv\")\n",
    "data = data.values\n",
    "# print(data)\n",
    "grades = np.array([])\n",
    "vaheds = np.array([])\n",
    "for i in range(len(data)):\n",
    "    grades = np.append(grades, data[i, 0])\n",
    "    vaheds = np.append(vaheds, data[i, 1])\n",
    "# print(grades)\n",
    "# print(vaheds)\n",
    "\n",
    "\n",
    "def gpa_calculator(grades: np.array, vaheds: np.array):\n",
    "    gpa_scores = np.array([])\n",
    "    for vahed in vaheds:\n",
    "        vahed = float(vahed)\n",
    "    for grade in grades:\n",
    "        grade = float(grade)\n",
    "        if 20 >= grade >= 16:\n",
    "            gpa_scores = np.append(gpa_scores, 4)\n",
    "        elif 16 > grade >= 14:\n",
    "            gpa_scores = np.append(gpa_scores, 3)\n",
    "        elif 14 > grade >= 12:\n",
    "            gpa_scores = np.append(gpa_scores, 2)\n",
    "        elif 12 > grade >= 10:\n",
    "            gpa_scores = np.append(gpa_scores, 1)\n",
    "        else:\n",
    "            gpa_scores = np.append(gpa_scores, 0)\n",
    "    sum = 0\n",
    "    for i in range(len(gpa_scores)):\n",
    "        sum += gpa_scores[i] * vaheds[i]\n",
    "    average = sum / np.sum(vaheds)\n",
    "    return average\n",
    "\n",
    "\n",
    "gpa_score = gpa_calculator(grades, vaheds)\n",
    "\n",
    "print(f\"Your GPA in USA scale is: {gpa_score:.2f}\")\n"
   ],
   "metadata": {
    "collapsed": false,
    "ExecuteTime": {
     "end_time": "2023-06-14T11:55:49.697252200Z",
     "start_time": "2023-06-14T11:55:49.690413300Z"
    }
   }
  },
  {
   "cell_type": "code",
   "execution_count": 36,
   "outputs": [
    {
     "name": "stdout",
     "output_type": "stream",
     "text": [
      "Your GPA in USA scale is: 4.00\n"
     ]
    }
   ],
   "source": [
    "file = open(r'E:\\Python Projects\\07-TOEFL\\keip.csv')\n",
    "data = pd.read_csv(\"keip.csv\")\n",
    "data = data.values\n",
    "# print(data)\n",
    "grades = np.array([])\n",
    "vaheds = np.array([])\n",
    "for i in range(len(data)):\n",
    "    grades = np.append(grades, data[i, 0])\n",
    "    vaheds = np.append(vaheds, data[i, 1])\n",
    "# print(grades)\n",
    "# print(vaheds)\n",
    "\n",
    "\n",
    "def gpa_calculator(grades: np.array, vaheds: np.array):\n",
    "    gpa_scores = np.array([])\n",
    "    for vahed in vaheds:\n",
    "        vahed = float(vahed)\n",
    "    for grade in grades:\n",
    "        grade = float(grade)\n",
    "        if 20 >= grade >= 16:\n",
    "            gpa_scores = np.append(gpa_scores, 4)\n",
    "        elif 16 > grade >= 14:\n",
    "            gpa_scores = np.append(gpa_scores, 3)\n",
    "        elif 14 > grade >= 12:\n",
    "            gpa_scores = np.append(gpa_scores, 2)\n",
    "        elif 12 > grade >= 10:\n",
    "            gpa_scores = np.append(gpa_scores, 1)\n",
    "        else:\n",
    "            gpa_scores = np.append(gpa_scores, 0)\n",
    "    sum = 0\n",
    "    for i in range(len(gpa_scores)):\n",
    "        sum += gpa_scores[i] * vaheds[i]\n",
    "    average = sum / np.sum(vaheds)\n",
    "    return average\n",
    "\n",
    "\n",
    "gpa_score = gpa_calculator(grades, vaheds)\n",
    "\n",
    "print(f\"Your GPA in USA scale is: {gpa_score:.2f}\")\n"
   ],
   "metadata": {
    "collapsed": false,
    "ExecuteTime": {
     "end_time": "2023-06-14T12:16:58.185331700Z",
     "start_time": "2023-06-14T12:16:58.175552700Z"
    }
   }
  },
  {
   "cell_type": "code",
   "execution_count": null,
   "outputs": [],
   "source": [],
   "metadata": {
    "collapsed": false
   }
  }
 ],
 "metadata": {
  "kernelspec": {
   "display_name": "Python 3",
   "language": "python",
   "name": "python3"
  },
  "language_info": {
   "codemirror_mode": {
    "name": "ipython",
    "version": 2
   },
   "file_extension": ".py",
   "mimetype": "text/x-python",
   "name": "python",
   "nbconvert_exporter": "python",
   "pygments_lexer": "ipython2",
   "version": "2.7.6"
  }
 },
 "nbformat": 4,
 "nbformat_minor": 0
}
