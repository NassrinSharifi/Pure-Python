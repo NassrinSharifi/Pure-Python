{
 "cells": [
  {
   "cell_type": "code",
   "execution_count": 1,
   "id": "initial_id",
   "metadata": {
    "collapsed": true,
    "ExecuteTime": {
     "end_time": "2023-11-16T07:13:45.600978600Z",
     "start_time": "2023-11-16T07:13:42.950607500Z"
    }
   },
   "outputs": [],
   "source": [
    "import pandas as pd\n",
    "import numpy as np"
   ]
  },
  {
   "cell_type": "markdown",
   "source": [
    "## Functions"
   ],
   "metadata": {
    "collapsed": false
   },
   "id": "4091008d1484a327"
  },
  {
   "cell_type": "code",
   "execution_count": 11,
   "outputs": [],
   "source": [
    "def simple_moving_average(n, df):\n",
    "    last_year = df[\"Year\"].max()\n",
    "    new_df = df.tail(n)\n",
    "    \n",
    "    for i in range(1, 7):\n",
    "        mean_electricity = new_df[\"Electricity (Million kilowatt-hour)\"].tail(n).mean()\n",
    "        new_row = {\"Year\": last_year + i, \"Electricity (Million kilowatt-hour)\": mean_electricity}\n",
    "        new_df.loc[len(new_df)] = new_row\n",
    "\n",
    "    return new_df.tail(6)\n",
    "\n",
    "\n",
    "def weighted_moving_average():\n",
    "    pass\n"
   ],
   "metadata": {
    "collapsed": false,
    "ExecuteTime": {
     "end_time": "2023-11-16T07:34:45.713757500Z",
     "start_time": "2023-11-16T07:34:45.708313800Z"
    }
   },
   "id": "81499d01179bbdd6"
  },
  {
   "cell_type": "markdown",
   "source": [
    "## Data"
   ],
   "metadata": {
    "collapsed": false
   },
   "id": "57d81320ffb16601"
  },
  {
   "cell_type": "code",
   "execution_count": 12,
   "outputs": [
    {
     "data": {
      "text/plain": "    Year  Electricity (Million kilowatt-hour)\n0   1344                                  816\n1   1345                                 1062\n2   1346                                 1409\n3   1347                                 1924\n4   1348                                 2562\n5   1349                                 3418\n6   1350                                 4519\n7   1351                                 5723\n8   1352                                 7796\n9   1353                                 9152\n10  1354                                10447\n11  1355                                11734\n12  1356                                13066\n13  1357                                14145\n14  1358                                15917\n15  1359                                16383\n16  1360                                18234\n17  1361                                21753\n18  1362                                25153\n19  1363                                28176\n20  1364                                30812\n21  1365                                32619\n22  1366                                34740\n23  1367                                36147\n24  1368                                39956\n25  1369                                45107\n26  1370                                48757\n27  1371                                52306\n28  1372                                58114\n29  1373                                63625\n30  1374                                65854\n31  1375                                69671\n32  1376                                73358\n33  1377                                77646\n34  1378                                84656\n35  1379                                90366\n36  1380                                97171\n37  1381                               105064\n38  1382                               114625\n39  1383                               125528\n40  1384                               132898\n41  1385                               144581\n42  1386                               152329\n43  1387                               161445\n44  1388                               168432\n45  1389                               184182\n46  1390                               183905\n47  1391                               194149\n48  1392                               203088\n49  1393                               219653\n50  1394                               227312\n51  1395                               237436\n52  1396                               255026",
      "text/html": "<div>\n<style scoped>\n    .dataframe tbody tr th:only-of-type {\n        vertical-align: middle;\n    }\n\n    .dataframe tbody tr th {\n        vertical-align: top;\n    }\n\n    .dataframe thead th {\n        text-align: right;\n    }\n</style>\n<table border=\"1\" class=\"dataframe\">\n  <thead>\n    <tr style=\"text-align: right;\">\n      <th></th>\n      <th>Year</th>\n      <th>Electricity (Million kilowatt-hour)</th>\n    </tr>\n  </thead>\n  <tbody>\n    <tr>\n      <th>0</th>\n      <td>1344</td>\n      <td>816</td>\n    </tr>\n    <tr>\n      <th>1</th>\n      <td>1345</td>\n      <td>1062</td>\n    </tr>\n    <tr>\n      <th>2</th>\n      <td>1346</td>\n      <td>1409</td>\n    </tr>\n    <tr>\n      <th>3</th>\n      <td>1347</td>\n      <td>1924</td>\n    </tr>\n    <tr>\n      <th>4</th>\n      <td>1348</td>\n      <td>2562</td>\n    </tr>\n    <tr>\n      <th>5</th>\n      <td>1349</td>\n      <td>3418</td>\n    </tr>\n    <tr>\n      <th>6</th>\n      <td>1350</td>\n      <td>4519</td>\n    </tr>\n    <tr>\n      <th>7</th>\n      <td>1351</td>\n      <td>5723</td>\n    </tr>\n    <tr>\n      <th>8</th>\n      <td>1352</td>\n      <td>7796</td>\n    </tr>\n    <tr>\n      <th>9</th>\n      <td>1353</td>\n      <td>9152</td>\n    </tr>\n    <tr>\n      <th>10</th>\n      <td>1354</td>\n      <td>10447</td>\n    </tr>\n    <tr>\n      <th>11</th>\n      <td>1355</td>\n      <td>11734</td>\n    </tr>\n    <tr>\n      <th>12</th>\n      <td>1356</td>\n      <td>13066</td>\n    </tr>\n    <tr>\n      <th>13</th>\n      <td>1357</td>\n      <td>14145</td>\n    </tr>\n    <tr>\n      <th>14</th>\n      <td>1358</td>\n      <td>15917</td>\n    </tr>\n    <tr>\n      <th>15</th>\n      <td>1359</td>\n      <td>16383</td>\n    </tr>\n    <tr>\n      <th>16</th>\n      <td>1360</td>\n      <td>18234</td>\n    </tr>\n    <tr>\n      <th>17</th>\n      <td>1361</td>\n      <td>21753</td>\n    </tr>\n    <tr>\n      <th>18</th>\n      <td>1362</td>\n      <td>25153</td>\n    </tr>\n    <tr>\n      <th>19</th>\n      <td>1363</td>\n      <td>28176</td>\n    </tr>\n    <tr>\n      <th>20</th>\n      <td>1364</td>\n      <td>30812</td>\n    </tr>\n    <tr>\n      <th>21</th>\n      <td>1365</td>\n      <td>32619</td>\n    </tr>\n    <tr>\n      <th>22</th>\n      <td>1366</td>\n      <td>34740</td>\n    </tr>\n    <tr>\n      <th>23</th>\n      <td>1367</td>\n      <td>36147</td>\n    </tr>\n    <tr>\n      <th>24</th>\n      <td>1368</td>\n      <td>39956</td>\n    </tr>\n    <tr>\n      <th>25</th>\n      <td>1369</td>\n      <td>45107</td>\n    </tr>\n    <tr>\n      <th>26</th>\n      <td>1370</td>\n      <td>48757</td>\n    </tr>\n    <tr>\n      <th>27</th>\n      <td>1371</td>\n      <td>52306</td>\n    </tr>\n    <tr>\n      <th>28</th>\n      <td>1372</td>\n      <td>58114</td>\n    </tr>\n    <tr>\n      <th>29</th>\n      <td>1373</td>\n      <td>63625</td>\n    </tr>\n    <tr>\n      <th>30</th>\n      <td>1374</td>\n      <td>65854</td>\n    </tr>\n    <tr>\n      <th>31</th>\n      <td>1375</td>\n      <td>69671</td>\n    </tr>\n    <tr>\n      <th>32</th>\n      <td>1376</td>\n      <td>73358</td>\n    </tr>\n    <tr>\n      <th>33</th>\n      <td>1377</td>\n      <td>77646</td>\n    </tr>\n    <tr>\n      <th>34</th>\n      <td>1378</td>\n      <td>84656</td>\n    </tr>\n    <tr>\n      <th>35</th>\n      <td>1379</td>\n      <td>90366</td>\n    </tr>\n    <tr>\n      <th>36</th>\n      <td>1380</td>\n      <td>97171</td>\n    </tr>\n    <tr>\n      <th>37</th>\n      <td>1381</td>\n      <td>105064</td>\n    </tr>\n    <tr>\n      <th>38</th>\n      <td>1382</td>\n      <td>114625</td>\n    </tr>\n    <tr>\n      <th>39</th>\n      <td>1383</td>\n      <td>125528</td>\n    </tr>\n    <tr>\n      <th>40</th>\n      <td>1384</td>\n      <td>132898</td>\n    </tr>\n    <tr>\n      <th>41</th>\n      <td>1385</td>\n      <td>144581</td>\n    </tr>\n    <tr>\n      <th>42</th>\n      <td>1386</td>\n      <td>152329</td>\n    </tr>\n    <tr>\n      <th>43</th>\n      <td>1387</td>\n      <td>161445</td>\n    </tr>\n    <tr>\n      <th>44</th>\n      <td>1388</td>\n      <td>168432</td>\n    </tr>\n    <tr>\n      <th>45</th>\n      <td>1389</td>\n      <td>184182</td>\n    </tr>\n    <tr>\n      <th>46</th>\n      <td>1390</td>\n      <td>183905</td>\n    </tr>\n    <tr>\n      <th>47</th>\n      <td>1391</td>\n      <td>194149</td>\n    </tr>\n    <tr>\n      <th>48</th>\n      <td>1392</td>\n      <td>203088</td>\n    </tr>\n    <tr>\n      <th>49</th>\n      <td>1393</td>\n      <td>219653</td>\n    </tr>\n    <tr>\n      <th>50</th>\n      <td>1394</td>\n      <td>227312</td>\n    </tr>\n    <tr>\n      <th>51</th>\n      <td>1395</td>\n      <td>237436</td>\n    </tr>\n    <tr>\n      <th>52</th>\n      <td>1396</td>\n      <td>255026</td>\n    </tr>\n  </tbody>\n</table>\n</div>"
     },
     "execution_count": 12,
     "metadata": {},
     "output_type": "execute_result"
    }
   ],
   "source": [
    "data = pd.read_csv(\"Data.csv\")\n",
    "data"
   ],
   "metadata": {
    "collapsed": false,
    "ExecuteTime": {
     "end_time": "2023-11-16T07:34:47.277438100Z",
     "start_time": "2023-11-16T07:34:47.261350800Z"
    }
   },
   "id": "bddec83f982c01e9"
  },
  {
   "cell_type": "code",
   "execution_count": 10,
   "outputs": [],
   "source": [
    "simple_moving_average(3, data)"
   ],
   "metadata": {
    "collapsed": false,
    "ExecuteTime": {
     "end_time": "2023-11-16T07:31:48.042188600Z",
     "start_time": "2023-11-16T07:31:48.004054600Z"
    }
   },
   "id": "335d78a1f8238532"
  },
  {
   "cell_type": "code",
   "execution_count": 10,
   "outputs": [
    {
     "name": "stderr",
     "output_type": "stream",
     "text": [
      "C:\\Users\\Nassrin Sharifi\\AppData\\Local\\Temp\\ipykernel_5744\\3012932717.py:15: SettingWithCopyWarning: \n",
      "A value is trying to be set on a copy of a slice from a DataFrame\n",
      "\n",
      "See the caveats in the documentation: https://pandas.pydata.org/pandas-docs/stable/user_guide/indexing.html#returning-a-view-versus-a-copy\n",
      "  new_df.loc[len(new_df)] = new_row\n",
      "C:\\Users\\Nassrin Sharifi\\AppData\\Local\\Temp\\ipykernel_5744\\3012932717.py:15: SettingWithCopyWarning: \n",
      "A value is trying to be set on a copy of a slice from a DataFrame\n",
      "\n",
      "See the caveats in the documentation: https://pandas.pydata.org/pandas-docs/stable/user_guide/indexing.html#returning-a-view-versus-a-copy\n",
      "  new_df.loc[len(new_df)] = new_row\n",
      "C:\\Users\\Nassrin Sharifi\\AppData\\Local\\Temp\\ipykernel_5744\\3012932717.py:15: SettingWithCopyWarning: \n",
      "A value is trying to be set on a copy of a slice from a DataFrame\n",
      "\n",
      "See the caveats in the documentation: https://pandas.pydata.org/pandas-docs/stable/user_guide/indexing.html#returning-a-view-versus-a-copy\n",
      "  new_df.loc[len(new_df)] = new_row\n",
      "C:\\Users\\Nassrin Sharifi\\AppData\\Local\\Temp\\ipykernel_5744\\3012932717.py:15: SettingWithCopyWarning: \n",
      "A value is trying to be set on a copy of a slice from a DataFrame\n",
      "\n",
      "See the caveats in the documentation: https://pandas.pydata.org/pandas-docs/stable/user_guide/indexing.html#returning-a-view-versus-a-copy\n",
      "  new_df.loc[len(new_df)] = new_row\n",
      "C:\\Users\\Nassrin Sharifi\\AppData\\Local\\Temp\\ipykernel_5744\\3012932717.py:15: SettingWithCopyWarning: \n",
      "A value is trying to be set on a copy of a slice from a DataFrame\n",
      "\n",
      "See the caveats in the documentation: https://pandas.pydata.org/pandas-docs/stable/user_guide/indexing.html#returning-a-view-versus-a-copy\n",
      "  new_df.loc[len(new_df)] = new_row\n",
      "C:\\Users\\Nassrin Sharifi\\AppData\\Local\\Temp\\ipykernel_5744\\3012932717.py:15: SettingWithCopyWarning: \n",
      "A value is trying to be set on a copy of a slice from a DataFrame\n",
      "\n",
      "See the caveats in the documentation: https://pandas.pydata.org/pandas-docs/stable/user_guide/indexing.html#returning-a-view-versus-a-copy\n",
      "  new_df.loc[len(new_df)] = new_row\n"
     ]
    },
    {
     "data": {
      "text/plain": "   Year  Electricity (Million kilowatt-hour)\n3  1397                        239924.666667\n4  1398                        244128.888889\n5  1399                        246359.851852\n6  1400                        243471.135802\n7  1401                        244653.292181\n8  1402                        244828.093278",
      "text/html": "<div>\n<style scoped>\n    .dataframe tbody tr th:only-of-type {\n        vertical-align: middle;\n    }\n\n    .dataframe tbody tr th {\n        vertical-align: top;\n    }\n\n    .dataframe thead th {\n        text-align: right;\n    }\n</style>\n<table border=\"1\" class=\"dataframe\">\n  <thead>\n    <tr style=\"text-align: right;\">\n      <th></th>\n      <th>Year</th>\n      <th>Electricity (Million kilowatt-hour)</th>\n    </tr>\n  </thead>\n  <tbody>\n    <tr>\n      <th>3</th>\n      <td>1397</td>\n      <td>239924.666667</td>\n    </tr>\n    <tr>\n      <th>4</th>\n      <td>1398</td>\n      <td>244128.888889</td>\n    </tr>\n    <tr>\n      <th>5</th>\n      <td>1399</td>\n      <td>246359.851852</td>\n    </tr>\n    <tr>\n      <th>6</th>\n      <td>1400</td>\n      <td>243471.135802</td>\n    </tr>\n    <tr>\n      <th>7</th>\n      <td>1401</td>\n      <td>244653.292181</td>\n    </tr>\n    <tr>\n      <th>8</th>\n      <td>1402</td>\n      <td>244828.093278</td>\n    </tr>\n  </tbody>\n</table>\n</div>"
     },
     "execution_count": 10,
     "metadata": {},
     "output_type": "execute_result"
    }
   ],
   "source": [
    "simple_moving_average(3, data)"
   ],
   "metadata": {
    "collapsed": false,
    "ExecuteTime": {
     "end_time": "2023-11-16T07:30:28.037433400Z",
     "start_time": "2023-11-16T07:30:27.938027500Z"
    }
   },
   "id": "6001b6b5abf02b44"
  },
  {
   "cell_type": "code",
   "execution_count": null,
   "outputs": [],
   "source": [],
   "metadata": {
    "collapsed": false
   },
   "id": "4945bbccafa8c819"
  }
 ],
 "metadata": {
  "kernelspec": {
   "display_name": "Python 3",
   "language": "python",
   "name": "python3"
  },
  "language_info": {
   "codemirror_mode": {
    "name": "ipython",
    "version": 2
   },
   "file_extension": ".py",
   "mimetype": "text/x-python",
   "name": "python",
   "nbconvert_exporter": "python",
   "pygments_lexer": "ipython2",
   "version": "2.7.6"
  }
 },
 "nbformat": 4,
 "nbformat_minor": 5
}
