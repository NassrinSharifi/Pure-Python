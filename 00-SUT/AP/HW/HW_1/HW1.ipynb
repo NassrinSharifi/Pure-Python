{
 "cells": [
  {
   "cell_type": "code",
   "execution_count": 1,
   "id": "initial_id",
   "metadata": {
    "collapsed": true,
    "ExecuteTime": {
     "end_time": "2023-11-12T14:15:31.675944500Z",
     "start_time": "2023-11-12T14:15:31.627633300Z"
    }
   },
   "outputs": [],
   "source": [
    "import re\n",
    "%load_ext autoreload\n",
    "%autoreload 2\n"
   ]
  },
  {
   "cell_type": "code",
   "execution_count": 2,
   "outputs": [],
   "source": [
    "import solution as s\n",
    "\n"
   ],
   "metadata": {
    "collapsed": false,
    "ExecuteTime": {
     "end_time": "2023-11-12T14:15:34.179479400Z",
     "start_time": "2023-11-12T14:15:33.505804700Z"
    }
   },
   "id": "95f459cb2a1730b"
  },
  {
   "cell_type": "code",
   "execution_count": 89,
   "outputs": [
    {
     "name": "stderr",
     "output_type": "stream",
     "text": [
      "[autoreload of solution failed: Traceback (most recent call last):\n",
      "  File \"C:\\Python Projects\\Interpreters\\Pure Python\\Lib\\site-packages\\IPython\\extensions\\autoreload.py\", line 276, in check\n",
      "    superreload(m, reload, self.old_objects)\n",
      "  File \"C:\\Python Projects\\Interpreters\\Pure Python\\Lib\\site-packages\\IPython\\extensions\\autoreload.py\", line 475, in superreload\n",
      "    module = reload(module)\n",
      "             ^^^^^^^^^^^^^^\n",
      "  File \"C:\\Python Projects\\Interpreters\\Pure Python\\Lib\\importlib\\__init__.py\", line 169, in reload\n",
      "    _bootstrap._exec(spec, module)\n",
      "  File \"<frozen importlib._bootstrap>\", line 621, in _exec\n",
      "  File \"<frozen importlib._bootstrap_external>\", line 936, in exec_module\n",
      "  File \"<frozen importlib._bootstrap_external>\", line 1074, in get_code\n",
      "  File \"<frozen importlib._bootstrap_external>\", line 1004, in source_to_code\n",
      "  File \"<frozen importlib._bootstrap>\", line 241, in _call_with_frames_removed\n",
      "  File \"D:\\My Python Projects\\Pure-Python\\00-SUT\\AP\\HW\\HW_1\\solution.py\", line 13\n",
      "    def username_validation(self, username):\n",
      "    ^^^\n",
      "IndentationError: expected an indented block after function definition on line 5\n",
      "]\n"
     ]
    }
   ],
   "source": [
    "obj = s.Account(\"fe.awegn_\", \"sena\", \"sena\", \"sena\", \"sena\")\n",
    "obj.username_validation(\"A.WENAE\")"
   ],
   "metadata": {
    "collapsed": false,
    "ExecuteTime": {
     "end_time": "2023-11-07T19:34:51.995116500Z",
     "start_time": "2023-11-07T19:34:51.925369700Z"
    }
   },
   "id": "bc9269bea9435c8b"
  },
  {
   "cell_type": "code",
   "execution_count": 41,
   "outputs": [
    {
     "ename": "Exception",
     "evalue": "invalid Password",
     "output_type": "error",
     "traceback": [
      "\u001B[1;31m---------------------------------------------------------------------------\u001B[0m",
      "\u001B[1;31mException\u001B[0m                                 Traceback (most recent call last)",
      "Cell \u001B[1;32mIn[41], line 1\u001B[0m\n\u001B[1;32m----> 1\u001B[0m \u001B[43mobj\u001B[49m\u001B[38;5;241;43m.\u001B[39;49m\u001B[43mpassword_validation\u001B[49m\u001B[43m(\u001B[49m\u001B[38;5;124;43m\"\u001B[39;49m\u001B[38;5;124;43m12348947693oagengOAWNEG\u001B[39;49m\u001B[38;5;124;43m\"\u001B[39;49m\u001B[43m)\u001B[49m\n",
      "File \u001B[1;32mD:\\My Python Projects\\Pure-Python\\00-SUT\\AP\\HW\\HW_1\\solution.py:36\u001B[0m, in \u001B[0;36mAccount.password_validation\u001B[1;34m(self, password)\u001B[0m\n\u001B[0;32m     33\u001B[0m match \u001B[38;5;241m=\u001B[39m re\u001B[38;5;241m.\u001B[39mmatch(regex_pattern, password)\n\u001B[0;32m     35\u001B[0m \u001B[38;5;28;01mif\u001B[39;00m match \u001B[38;5;129;01mis\u001B[39;00m \u001B[38;5;28;01mNone\u001B[39;00m:\n\u001B[1;32m---> 36\u001B[0m     \u001B[38;5;28;01mraise\u001B[39;00m \u001B[38;5;167;01mException\u001B[39;00m(\u001B[38;5;124m\"\u001B[39m\u001B[38;5;124minvalid Password\u001B[39m\u001B[38;5;124m\"\u001B[39m)\n",
      "\u001B[1;31mException\u001B[0m: invalid Password"
     ]
    }
   ],
   "source": [
    "\n",
    "obj.password_validation(\"12348947693oagengOAWNEG\")"
   ],
   "metadata": {
    "collapsed": false,
    "ExecuteTime": {
     "end_time": "2023-11-06T20:11:01.192041300Z",
     "start_time": "2023-11-06T20:11:01.135260800Z"
    }
   },
   "id": "9ef1b3552970e219"
  },
  {
   "cell_type": "code",
   "execution_count": null,
   "outputs": [],
   "source": [
    "\n"
   ],
   "metadata": {
    "collapsed": false,
    "ExecuteTime": {
     "end_time": "2023-11-07T14:09:28.367172900Z",
     "start_time": "2023-11-07T14:09:28.352525700Z"
    }
   },
   "id": "db06d1e7eab0a2e2"
  },
  {
   "cell_type": "code",
   "execution_count": 16,
   "outputs": [],
   "source": [
    "a = \"111111\"\n",
    "a_list = list(map(int, a.split()))\n",
    "sum = 0\n",
    "\n",
    "\n"
   ],
   "metadata": {
    "collapsed": false,
    "ExecuteTime": {
     "end_time": "2023-11-07T14:39:20.732405600Z",
     "start_time": "2023-11-07T14:39:20.707620500Z"
    }
   },
   "id": "f4774ed4e883b3af"
  },
  {
   "cell_type": "code",
   "execution_count": 17,
   "outputs": [
    {
     "name": "stdout",
     "output_type": "stream",
     "text": [
      "<class 'str'>\n"
     ]
    }
   ],
   "source": [
    "print(type(a[1]))"
   ],
   "metadata": {
    "collapsed": false,
    "ExecuteTime": {
     "end_time": "2023-11-07T14:39:22.556407600Z",
     "start_time": "2023-11-07T14:39:22.533243800Z"
    }
   },
   "id": "29c8c9bbe8d8b3c6"
  },
  {
   "cell_type": "code",
   "execution_count": 19,
   "outputs": [
    {
     "name": "stdout",
     "output_type": "stream",
     "text": [
      "[1, 1, 1, 1, 1, 1]\n",
      "[1, 1, 1, 1, 1]\n",
      "26\n",
      "30\n",
      "33\n",
      "35\n",
      "36\n"
     ]
    }
   ],
   "source": [
    "number = 111111\n",
    "digits = list(map(int, str(number)))\n",
    "print(digits)\n",
    "digits.pop()\n",
    "print(digits)\n",
    "for i in range(len(digits)):\n",
    "    sum += digits[i] * (len(digits) - i)\n",
    "    print(sum)"
   ],
   "metadata": {
    "collapsed": false,
    "ExecuteTime": {
     "end_time": "2023-11-07T14:40:42.352913500Z",
     "start_time": "2023-11-07T14:40:42.283810200Z"
    }
   },
   "id": "6507493a7f0dd97"
  },
  {
   "cell_type": "code",
   "execution_count": 88,
   "outputs": [
    {
     "ename": "Exception",
     "evalue": "invalid Email",
     "output_type": "error",
     "traceback": [
      "\u001B[1;31m---------------------------------------------------------------------------\u001B[0m",
      "\u001B[1;31mException\u001B[0m                                 Traceback (most recent call last)",
      "Cell \u001B[1;32mIn[88], line 2\u001B[0m\n\u001B[0;32m      1\u001B[0m obj\u001B[38;5;241m=\u001B[39ms\u001B[38;5;241m.\u001B[39mAccount(\u001B[38;5;124m\"\u001B[39m\u001B[38;5;124mawe\u001B[39m\u001B[38;5;124m\"\u001B[39m,\u001B[38;5;124m\"\u001B[39m\u001B[38;5;124maewf\u001B[39m\u001B[38;5;124m\"\u001B[39m,\u001B[38;5;124m\"\u001B[39m\u001B[38;5;124m0372290694\u001B[39m\u001B[38;5;124m\"\u001B[39m,\u001B[38;5;241m6221061214978571\u001B[39m,\u001B[38;5;124m\"\u001B[39m\u001B[38;5;124minvalidemil@email.c\u001B[39m\u001B[38;5;124m\"\u001B[39m)\n\u001B[1;32m----> 2\u001B[0m \u001B[43mobj\u001B[49m\u001B[38;5;241;43m.\u001B[39;49m\u001B[43memail_validation\u001B[49m\u001B[43m(\u001B[49m\u001B[43mobj\u001B[49m\u001B[38;5;241;43m.\u001B[39;49m\u001B[43memail\u001B[49m\u001B[43m)\u001B[49m\n",
      "File \u001B[1;32mD:\\My Python Projects\\Pure-Python\\00-SUT\\AP\\HW\\HW_1\\solution.py:93\u001B[0m, in \u001B[0;36mAccount.email_validation\u001B[1;34m(self, email)\u001B[0m\n\u001B[0;32m     91\u001B[0m match_3 \u001B[38;5;241m=\u001B[39m re\u001B[38;5;241m.\u001B[39mmatch(regex_pattern_3, tld)\n\u001B[0;32m     92\u001B[0m \u001B[38;5;28;01mif\u001B[39;00m match_3 \u001B[38;5;129;01mis\u001B[39;00m \u001B[38;5;28;01mNone\u001B[39;00m:\n\u001B[1;32m---> 93\u001B[0m     \u001B[38;5;28;01mraise\u001B[39;00m \u001B[38;5;167;01mException\u001B[39;00m(\u001B[38;5;124m\"\u001B[39m\u001B[38;5;124minvalid Email\u001B[39m\u001B[38;5;124m\"\u001B[39m)\n\u001B[0;32m     94\u001B[0m \u001B[38;5;66;03m# to make sure that the username has 0 or 1 dot ,i.e, the whole email has at most 2 dots.from\u001B[39;00m\n\u001B[0;32m     95\u001B[0m regex_pattern_4 \u001B[38;5;241m=\u001B[39m \u001B[38;5;124mr\u001B[39m\u001B[38;5;124m\"\u001B[39m\u001B[38;5;124m^([^.]*(\u001B[39m\u001B[38;5;124m\\\u001B[39m\u001B[38;5;124m.[^.]*)\u001B[39m\u001B[38;5;124m{\u001B[39m\u001B[38;5;124m0,2})$\u001B[39m\u001B[38;5;124m\"\u001B[39m\n",
      "\u001B[1;31mException\u001B[0m: invalid Email"
     ]
    }
   ],
   "source": [
    "obj = s.Account(\"awe\", \"aewf\", \"0372290694\", 6221061214978571, \"invalidemil@email.c\")\n",
    "obj.email_validation(obj.email)"
   ],
   "metadata": {
    "collapsed": false,
    "ExecuteTime": {
     "end_time": "2023-11-07T18:58:23.416163100Z",
     "start_time": "2023-11-07T18:58:23.351795500Z"
    }
   },
   "id": "9677f99ad6313cbd"
  },
  {
   "cell_type": "code",
   "execution_count": 77,
   "outputs": [
    {
     "data": {
      "text/plain": "int"
     },
     "execution_count": 77,
     "metadata": {},
     "output_type": "execute_result"
    }
   ],
   "source": [
    "type(9 % 5)"
   ],
   "metadata": {
    "collapsed": false,
    "ExecuteTime": {
     "end_time": "2023-11-07T18:55:08.078184400Z",
     "start_time": "2023-11-07T18:55:07.811548500Z"
    }
   },
   "id": "dc3dd7d9250d8b2e"
  },
  {
   "cell_type": "code",
   "execution_count": 7,
   "outputs": [
    {
     "ename": "IndexError",
     "evalue": "list index out of range",
     "output_type": "error",
     "traceback": [
      "\u001B[1;31m---------------------------------------------------------------------------\u001B[0m",
      "\u001B[1;31mIndexError\u001B[0m                                Traceback (most recent call last)",
      "Cell \u001B[1;32mIn[7], line 1\u001B[0m\n\u001B[1;32m----> 1\u001B[0m obj3 \u001B[38;5;241m=\u001B[39m \u001B[43ms\u001B[49m\u001B[38;5;241;43m.\u001B[39;49m\u001B[43mAccount\u001B[49m\u001B[43m(\u001B[49m\u001B[38;5;124;43m\"\u001B[39;49m\u001B[38;5;124;43mNaasrin.Sharifi\u001B[39;49m\u001B[38;5;124;43m\"\u001B[39;49m\u001B[43m,\u001B[49m\u001B[43m \u001B[49m\u001B[38;5;124;43m\"\u001B[39;49m\u001B[38;5;124;43mQerg1#ihG\u001B[39;49m\u001B[38;5;124;43m\"\u001B[39;49m\u001B[43m,\u001B[49m\u001B[43m \u001B[49m\u001B[38;5;124;43m\"\u001B[39;49m\u001B[38;5;124;43m0372290604\u001B[39;49m\u001B[38;5;124;43m\"\u001B[39;49m\u001B[43m,\u001B[49m\u001B[43m \u001B[49m\u001B[38;5;124;43m\"\u001B[39;49m\u001B[38;5;124;43m6037997527716402\u001B[39;49m\u001B[38;5;124;43m\"\u001B[39;49m\u001B[43m,\u001B[49m\u001B[43m \u001B[49m\u001B[38;5;124;43m\"\u001B[39;49m\u001B[38;5;124;43mnassrinsharifi81@gmailcom\u001B[39;49m\u001B[38;5;124;43m\"\u001B[39;49m\u001B[43m)\u001B[49m\n",
      "File \u001B[1;32mD:\\My Python Projects\\Pure-Python\\00-SUT\\AP\\HW\\HW_1\\solution.py:12\u001B[0m, in \u001B[0;36mAccount.__init__\u001B[1;34m(self, username, password, nationalcode, creditcard, email)\u001B[0m\n\u001B[0;32m     10\u001B[0m \u001B[38;5;66;03m# we have national codes starting with 0\u001B[39;00m\n\u001B[0;32m     11\u001B[0m \u001B[38;5;28mself\u001B[39m\u001B[38;5;241m.\u001B[39mcreditcard \u001B[38;5;241m=\u001B[39m \u001B[38;5;28mself\u001B[39m\u001B[38;5;241m.\u001B[39mcreditcard_validation(creditcard)\n\u001B[1;32m---> 12\u001B[0m \u001B[38;5;28mself\u001B[39m\u001B[38;5;241m.\u001B[39memail \u001B[38;5;241m=\u001B[39m \u001B[38;5;28;43mself\u001B[39;49m\u001B[38;5;241;43m.\u001B[39;49m\u001B[43memail_validation\u001B[49m\u001B[43m(\u001B[49m\u001B[43memail\u001B[49m\u001B[43m)\u001B[49m\n",
      "File \u001B[1;32mD:\\My Python Projects\\Pure-Python\\00-SUT\\AP\\HW\\HW_1\\solution.py:97\u001B[0m, in \u001B[0;36mAccount.email_validation\u001B[1;34m(self, email)\u001B[0m\n\u001B[0;32m     95\u001B[0m \u001B[38;5;28;01mif\u001B[39;00m match_2 \u001B[38;5;129;01mis\u001B[39;00m \u001B[38;5;28;01mNone\u001B[39;00m:\n\u001B[0;32m     96\u001B[0m     \u001B[38;5;28;01mraise\u001B[39;00m \u001B[38;5;167;01mException\u001B[39;00m(\u001B[38;5;124m\"\u001B[39m\u001B[38;5;124minvalid Email\u001B[39m\u001B[38;5;124m\"\u001B[39m)\n\u001B[1;32m---> 97\u001B[0m tld \u001B[38;5;241m=\u001B[39m \u001B[43memail\u001B[49m\u001B[38;5;241;43m.\u001B[39;49m\u001B[43msplit\u001B[49m\u001B[43m(\u001B[49m\u001B[38;5;124;43m\"\u001B[39;49m\u001B[38;5;124;43m@\u001B[39;49m\u001B[38;5;124;43m\"\u001B[39;49m\u001B[43m)\u001B[49m\u001B[43m[\u001B[49m\u001B[38;5;241;43m1\u001B[39;49m\u001B[43m]\u001B[49m\u001B[38;5;241;43m.\u001B[39;49m\u001B[43msplit\u001B[49m\u001B[43m(\u001B[49m\u001B[38;5;124;43m\"\u001B[39;49m\u001B[38;5;124;43m.\u001B[39;49m\u001B[38;5;124;43m\"\u001B[39;49m\u001B[43m)\u001B[49m\u001B[43m[\u001B[49m\u001B[38;5;241;43m1\u001B[39;49m\u001B[43m]\u001B[49m\n\u001B[0;32m     98\u001B[0m regex_pattern_3 \u001B[38;5;241m=\u001B[39m \u001B[38;5;124mr\u001B[39m\u001B[38;5;124m\"\u001B[39m\u001B[38;5;124m^[a-zA-Z]\u001B[39m\u001B[38;5;124m{\u001B[39m\u001B[38;5;124m2,3}$\u001B[39m\u001B[38;5;124m\"\u001B[39m\n\u001B[0;32m     99\u001B[0m match_3 \u001B[38;5;241m=\u001B[39m re\u001B[38;5;241m.\u001B[39mmatch(regex_pattern_3, tld)\n",
      "\u001B[1;31mIndexError\u001B[0m: list index out of range"
     ]
    }
   ],
   "source": [
    "obj3 = s.Account(\"Naasrin.Sharifi\", \"Qerg1#ihG\", \"0372290604\", \"6037997527716402\", \"nassrinsharifi81@gmail.com\")"
   ],
   "metadata": {
    "collapsed": false,
    "ExecuteTime": {
     "end_time": "2023-11-12T14:19:59.691357300Z",
     "start_time": "2023-11-12T14:19:59.285243800Z"
    }
   },
   "id": "ec6a1d1d67204b79"
  },
  {
   "cell_type": "code",
   "execution_count": 5,
   "outputs": [
    {
     "data": {
      "text/plain": "'nassrinsharifi81@gmail.com'"
     },
     "execution_count": 5,
     "metadata": {},
     "output_type": "execute_result"
    }
   ],
   "source": [
    "obj3.email"
   ],
   "metadata": {
    "collapsed": false,
    "ExecuteTime": {
     "end_time": "2023-11-12T14:19:00.758769300Z",
     "start_time": "2023-11-12T14:19:00.711520500Z"
    }
   },
   "id": "87527a48d480e028"
  },
  {
   "cell_type": "code",
   "execution_count": 6,
   "outputs": [
    {
     "data": {
      "text/plain": "('6037997527716402', 'Naasrin.Sharifi', 'Qerg1#ihG', '0372290604')"
     },
     "execution_count": 6,
     "metadata": {},
     "output_type": "execute_result"
    }
   ],
   "source": [
    "obj3.creditcard , obj3.username,obj3.password,obj3.nationalcode"
   ],
   "metadata": {
    "collapsed": false,
    "ExecuteTime": {
     "end_time": "2023-11-12T14:19:32.122196300Z",
     "start_time": "2023-11-12T14:19:31.744422700Z"
    }
   },
   "id": "6c3b5055979a606e"
  },
  {
   "cell_type": "code",
   "execution_count": null,
   "outputs": [],
   "source": [],
   "metadata": {
    "collapsed": false
   },
   "id": "29b95fab38cc365"
  }
 ],
 "metadata": {
  "kernelspec": {
   "display_name": "Python 3",
   "language": "python",
   "name": "python3"
  },
  "language_info": {
   "codemirror_mode": {
    "name": "ipython",
    "version": 2
   },
   "file_extension": ".py",
   "mimetype": "text/x-python",
   "name": "python",
   "nbconvert_exporter": "python",
   "pygments_lexer": "ipython2",
   "version": "2.7.6"
  }
 },
 "nbformat": 4,
 "nbformat_minor": 5
}
