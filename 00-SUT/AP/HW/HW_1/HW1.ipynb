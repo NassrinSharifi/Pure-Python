{
 "cells": [
  {
   "cell_type": "code",
   "execution_count": 29,
   "id": "initial_id",
   "metadata": {
    "collapsed": true,
    "ExecuteTime": {
     "end_time": "2023-11-06T20:01:35.861113Z",
     "start_time": "2023-11-06T20:01:35.461355500Z"
    }
   },
   "outputs": [
    {
     "name": "stdout",
     "output_type": "stream",
     "text": [
      "The autoreload extension is already loaded. To reload it, use:\n",
      "  %reload_ext autoreload\n"
     ]
    }
   ],
   "source": [
    "%load_ext autoreload\n",
    "%autoreload 2\n"
   ]
  },
  {
   "cell_type": "code",
   "execution_count": 30,
   "outputs": [],
   "source": [
    "import solution as s\n",
    "\n"
   ],
   "metadata": {
    "collapsed": false,
    "ExecuteTime": {
     "end_time": "2023-11-06T20:01:35.965298400Z",
     "start_time": "2023-11-06T20:01:35.925846800Z"
    }
   },
   "id": "95f459cb2a1730b"
  },
  {
   "cell_type": "code",
   "execution_count": 32,
   "outputs": [],
   "source": [
    "obj=s.Account(\"fe.awegn_\",\"sena\",\"sena\",\"sena\",\"sena\")\n",
    "obj.username_validation(\"A.WENAE\")"
   ],
   "metadata": {
    "collapsed": false,
    "ExecuteTime": {
     "end_time": "2023-11-06T20:02:27.534759600Z",
     "start_time": "2023-11-06T20:02:27.129441900Z"
    }
   },
   "id": "bc9269bea9435c8b"
  },
  {
   "cell_type": "code",
   "execution_count": 41,
   "outputs": [
    {
     "ename": "Exception",
     "evalue": "invalid Password",
     "output_type": "error",
     "traceback": [
      "\u001B[1;31m---------------------------------------------------------------------------\u001B[0m",
      "\u001B[1;31mException\u001B[0m                                 Traceback (most recent call last)",
      "Cell \u001B[1;32mIn[41], line 1\u001B[0m\n\u001B[1;32m----> 1\u001B[0m \u001B[43mobj\u001B[49m\u001B[38;5;241;43m.\u001B[39;49m\u001B[43mpassword_validation\u001B[49m\u001B[43m(\u001B[49m\u001B[38;5;124;43m\"\u001B[39;49m\u001B[38;5;124;43m12348947693oagengOAWNEG\u001B[39;49m\u001B[38;5;124;43m\"\u001B[39;49m\u001B[43m)\u001B[49m\n",
      "File \u001B[1;32mD:\\My Python Projects\\Pure-Python\\00-SUT\\AP\\HW\\HW_1\\solution.py:36\u001B[0m, in \u001B[0;36mAccount.password_validation\u001B[1;34m(self, password)\u001B[0m\n\u001B[0;32m     33\u001B[0m match \u001B[38;5;241m=\u001B[39m re\u001B[38;5;241m.\u001B[39mmatch(regex_pattern, password)\n\u001B[0;32m     35\u001B[0m \u001B[38;5;28;01mif\u001B[39;00m match \u001B[38;5;129;01mis\u001B[39;00m \u001B[38;5;28;01mNone\u001B[39;00m:\n\u001B[1;32m---> 36\u001B[0m     \u001B[38;5;28;01mraise\u001B[39;00m \u001B[38;5;167;01mException\u001B[39;00m(\u001B[38;5;124m\"\u001B[39m\u001B[38;5;124minvalid Password\u001B[39m\u001B[38;5;124m\"\u001B[39m)\n",
      "\u001B[1;31mException\u001B[0m: invalid Password"
     ]
    }
   ],
   "source": [
    "\n",
    "obj.password_validation(\"12348947693oagengOAWNEG\")"
   ],
   "metadata": {
    "collapsed": false,
    "ExecuteTime": {
     "end_time": "2023-11-06T20:11:01.192041300Z",
     "start_time": "2023-11-06T20:11:01.135260800Z"
    }
   },
   "id": "9ef1b3552970e219"
  },
  {
   "cell_type": "code",
   "execution_count": 36,
   "outputs": [
    {
     "name": "stdout",
     "output_type": "stream",
     "text": [
      "Valid UserName\n",
      "Valid UserName\n",
      "Invalid UserName\n"
     ]
    }
   ],
   "source": [
    "\n",
    "def check_string(input_string):\n",
    "    pattern = r'^(?=.*[a-z])(?=.*[A-Z])(?=.*\\d)(?=.*[#@$!])[A-Za-z\\d#$@!]{8,}$'\n",
    "    match = re.match(pattern, input_string)\n",
    "    if match is None:\n",
    "        raise Exception(\"Invalid UserName\")\n",
    "\n",
    "# Example usage\n",
    "input_str = \"Abcdefg1#\"\n",
    "try:\n",
    "    check_string(input_str)\n",
    "    print(\"Valid UserName\")\n",
    "except Exception as e:\n",
    "    print(e)  # Output: Invalid UserName\n",
    "\n",
    "input_str = \"Password123$\"\n",
    "try:\n",
    "    check_string(input_str)\n",
    "    print(\"Valid UserName\")\n",
    "except Exception as e:\n",
    "    print(e)  # Output: Invalid UserName\n",
    "\n",
    "input_str = \"weakpassword\"\n",
    "try:\n",
    "    check_string(input_str)\n",
    "    print(\"Valid UserName\")\n",
    "except Exception as e:\n",
    "    print(e)  # Output: Invalid UserName"
   ],
   "metadata": {
    "collapsed": false,
    "ExecuteTime": {
     "end_time": "2023-11-06T20:06:19.801631300Z",
     "start_time": "2023-11-06T20:06:19.239469600Z"
    }
   },
   "id": "db06d1e7eab0a2e2"
  },
  {
   "cell_type": "code",
   "execution_count": 5,
   "outputs": [
    {
     "data": {
      "text/plain": "0"
     },
     "execution_count": 5,
     "metadata": {},
     "output_type": "execute_result"
    }
   ],
   "source": [
    "a=\"345675887\"\n",
    "for i in a:\n",
    "    "
   ],
   "metadata": {
    "collapsed": false,
    "ExecuteTime": {
     "end_time": "2023-11-07T07:32:19.358423900Z",
     "start_time": "2023-11-07T07:32:19.300980900Z"
    }
   },
   "id": "f4774ed4e883b3af"
  },
  {
   "cell_type": "code",
   "execution_count": null,
   "outputs": [],
   "source": [],
   "metadata": {
    "collapsed": false
   },
   "id": "29c8c9bbe8d8b3c6"
  }
 ],
 "metadata": {
  "kernelspec": {
   "display_name": "Python 3",
   "language": "python",
   "name": "python3"
  },
  "language_info": {
   "codemirror_mode": {
    "name": "ipython",
    "version": 2
   },
   "file_extension": ".py",
   "mimetype": "text/x-python",
   "name": "python",
   "nbconvert_exporter": "python",
   "pygments_lexer": "ipython2",
   "version": "2.7.6"
  }
 },
 "nbformat": 4,
 "nbformat_minor": 5
}
