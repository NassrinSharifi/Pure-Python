{
 "cells": [
  {
   "cell_type": "code",
   "execution_count": 5,
   "id": "initial_id",
   "metadata": {
    "collapsed": true,
    "ExecuteTime": {
     "end_time": "2023-10-30T21:45:27.676679400Z",
     "start_time": "2023-10-30T21:45:26.712278400Z"
    }
   },
   "outputs": [],
   "source": [
    "import numpy as np\n"
   ]
  },
  {
   "cell_type": "markdown",
   "source": [
    "### Get Data"
   ],
   "metadata": {
    "collapsed": false
   },
   "id": "832f3873268c1aa3"
  },
  {
   "cell_type": "code",
   "execution_count": 57,
   "outputs": [
    {
     "name": "stdout",
     "output_type": "stream",
     "text": [
      "3 3\n",
      "CFCFFBFBB\n",
      "[['C' 'F' 'C']\n",
      " ['F' 'F' 'B']\n",
      " ['F' 'B' 'B']]\n",
      "C\n"
     ]
    }
   ],
   "source": [
    "initial_input = input()\n",
    "\n",
    "n, m = int(initial_input[0]), int(initial_input[2])\n",
    "matrix_str = initial_input[4:].replace(\" \", \"\")\n",
    "print(n, m)\n",
    "print(matrix_str)\n",
    "matrix = []\n",
    "\n",
    "for i in range(0, len(matrix_str)):\n",
    "    matrix.append(matrix_str[i])\n",
    "\n",
    "matrix = np.array(matrix).reshape(n, m)\n",
    "print(matrix)\n",
    "print(matrix[0,0])\n"
   ],
   "metadata": {
    "collapsed": false,
    "ExecuteTime": {
     "end_time": "2023-10-30T23:12:44.898097500Z",
     "start_time": "2023-10-30T23:12:42.914980200Z"
    }
   },
   "id": "cd7ddc64b7e673ff"
  },
  {
   "cell_type": "code",
   "execution_count": 60,
   "outputs": [
    {
     "name": "stdout",
     "output_type": "stream",
     "text": [
      "[2, 3, 1]\n",
      "location: (3, 2)\n",
      "max killed: 3\n"
     ]
    }
   ],
   "source": [
    "killed_flies = []\n",
    "location=[]\n",
    "for row in range(n):\n",
    "    for column in range(m):\n",
    "        if matrix[row][column] == \"B\":\n",
    "            count_F_in_row = np.count_nonzero(matrix[row,:] == \"F\")\n",
    "            count_F_in_column = np.count_nonzero(matrix[:,column] == \"F\")\n",
    "            num_of_fly = count_F_in_row + count_F_in_column\n",
    "            killed_flies.append(num_of_fly)\n",
    "            location.append((row+1,column+1))\n",
    "\n",
    "\n",
    "# print(killed_flies)\n",
    "max_killed=max(killed_flies)\n",
    "print(\"location:\",location[killed_flies.index(max_killed)])\n",
    "print(\"max killed:\",max_killed)\n",
    "\n",
    "\n",
    "\n",
    "\n"
   ],
   "metadata": {
    "collapsed": false,
    "ExecuteTime": {
     "end_time": "2023-10-30T23:13:27.412973Z",
     "start_time": "2023-10-30T23:13:27.405658300Z"
    }
   },
   "id": "e3271d9ff7e4d234"
  },
  {
   "cell_type": "code",
   "execution_count": 1,
   "outputs": [
    {
     "name": "stdout",
     "output_type": "stream",
     "text": [
      "[]\n"
     ]
    }
   ],
   "source": [
    "import numpy as np\n",
    "\n",
    "#get data and produce matrix\n",
    "initial_input = \"3 3\"\n",
    "a=\n",
    "n, m = int(initial_input[0]), int(initial_input[2])\n",
    "matrix=[]\n",
    "for i in range(n):\n",
    "    row=input()\n",
    "    row=row.replace(\" \",\"\")\n",
    "    for i in row:\n",
    "        matrix.append(i)\n",
    "print(matrix)\n",
    "# matrix = np.array(matrix).reshape(n, m)\n",
    "# print(matrix)\n",
    "\n",
    "\n",
    "\n",
    "def kill_flies(matrix:list):\n",
    "    killed_flies = []\n",
    "    # location = []\n",
    "    for row in range(n):\n",
    "        for column in range(m):\n",
    "            if matrix[row][column] == \"B\":\n",
    "                count_F_in_row = np.count_nonzero(matrix[row, :] == \"F\")\n",
    "                count_F_in_column = np.count_nonzero(matrix[:, column] == \"F\")\n",
    "                num_of_fly = count_F_in_row + count_F_in_column\n",
    "                killed_flies.append(num_of_fly)\n",
    "                # location.append((row + 1, column + 1))\n",
    "    return max(killed_flies)\n",
    "# print(kill_flies(matrix))"
   ],
   "metadata": {
    "collapsed": false,
    "ExecuteTime": {
     "end_time": "2023-10-31T14:01:43.765403Z",
     "start_time": "2023-10-31T14:01:29.152723600Z"
    }
   },
   "id": "72261a7da5ed1efa"
  },
  {
   "cell_type": "code",
   "execution_count": null,
   "outputs": [],
   "source": [],
   "metadata": {
    "collapsed": false
   },
   "id": "8d41755a7efa9f50"
  }
 ],
 "metadata": {
  "kernelspec": {
   "display_name": "Python 3",
   "language": "python",
   "name": "python3"
  },
  "language_info": {
   "codemirror_mode": {
    "name": "ipython",
    "version": 2
   },
   "file_extension": ".py",
   "mimetype": "text/x-python",
   "name": "python",
   "nbconvert_exporter": "python",
   "pygments_lexer": "ipython2",
   "version": "2.7.6"
  }
 },
 "nbformat": 4,
 "nbformat_minor": 5
}
