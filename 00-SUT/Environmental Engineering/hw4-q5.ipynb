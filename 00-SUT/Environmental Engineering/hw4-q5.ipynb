{
 "cells": [
  {
   "cell_type": "code",
   "execution_count": 35,
   "metadata": {
    "collapsed": true,
    "ExecuteTime": {
     "end_time": "2023-06-03T12:13:09.197336700Z",
     "start_time": "2023-06-03T12:13:09.057304300Z"
    }
   },
   "outputs": [
    {
     "name": "stdout",
     "output_type": "stream",
     "text": [
      "2.327561516346499e-05\n",
      "L0= 422.0890373657441  and k= 0.2122\n"
     ]
    },
    {
     "name": "stderr",
     "output_type": "stream",
     "text": [
      "C:\\Users\\Nassrin Sharifi\\AppData\\Local\\Temp\\ipykernel_24772\\2573326093.py:8: RuntimeWarning: invalid value encountered in scalar divide\n",
      "  if abs(eq1/eq2 - 276/389) < 0.001:\n"
     ]
    }
   ],
   "source": [
    "import numpy as np\n",
    "\n",
    "l={}\n",
    "for k in range(0, 10000):\n",
    "    k = k / 10000\n",
    "    eq1 = (1 - np.exp(-5 * k))\n",
    "    eq2 = (1 - np.exp(-12 * k))\n",
    "    if abs(eq1/eq2 - 276/389) < 0.001:\n",
    "        l[abs(eq1/eq2 - 276/389)]= k\n",
    "\n",
    "min_l=min(l)\n",
    "print(min_l)\n",
    "k=l.pop(min_l)\n",
    "eq1 = (1 - np.exp(-5 * k))\n",
    "L0=276/eq1\n",
    "print(\"L0=\", L0, \" and k=\", k)\n"
   ]
  },
  {
   "cell_type": "code",
   "execution_count": null,
   "outputs": [],
   "source": [],
   "metadata": {
    "collapsed": false
   }
  }
 ],
 "metadata": {
  "kernelspec": {
   "display_name": "Python 3",
   "language": "python",
   "name": "python3"
  },
  "language_info": {
   "codemirror_mode": {
    "name": "ipython",
    "version": 2
   },
   "file_extension": ".py",
   "mimetype": "text/x-python",
   "name": "python",
   "nbconvert_exporter": "python",
   "pygments_lexer": "ipython2",
   "version": "2.7.6"
  }
 },
 "nbformat": 4,
 "nbformat_minor": 0
}
