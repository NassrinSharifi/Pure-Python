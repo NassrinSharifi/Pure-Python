{
 "cells": [
  {
   "cell_type": "code",
   "execution_count": 4,
   "metadata": {
    "collapsed": true,
    "ExecuteTime": {
     "end_time": "2023-06-30T19:59:26.395766600Z",
     "start_time": "2023-06-30T19:59:26.389226500Z"
    }
   },
   "outputs": [],
   "source": [
    "import numpy as np\n",
    "import pandas as pd\n",
    "import matplotlib.pyplot as plt"
   ]
  },
  {
   "cell_type": "code",
   "execution_count": 5,
   "outputs": [],
   "source": [
    "names_of_files=[\"fath,9.csv\",\"golbarg,8.csv\",\"mahallati,district 14.csv\",\"masudei,15.csv\",\"piruzi,district13.csv\",\"poonak.csv\",\"sadr,3.csv\",\"setad,district7.csv\",\"shadabad,18.csv\",\"shahrdari,16.csv\",\"shahrdari,19.csv\",\"shahrdari,21.csv\",\"shahrdari,22.csv\",\"sharif,2.csv\",\"tarbiat,district6.csv\"]\n",
    "stations=[]\n",
    "for i in range(len(names_of_files)):\n",
    "    # file_name=str(r'E:\\SUT\\6th Term\\2-Environment\\Project\\part 2'+names_of_files[i])\n",
    "    # file = open(file_name)\n",
    "    data_s = pd.read_csv(names_of_files[i])\n",
    "    # data = data.values\n",
    "    stations.append(data_s)\n",
    "# print(stations[0])\n",
    "# print(Data)\n"
   ],
   "metadata": {
    "collapsed": false,
    "ExecuteTime": {
     "end_time": "2023-06-30T19:59:29.002730700Z",
     "start_time": "2023-06-30T19:59:27.924866Z"
    }
   }
  },
  {
   "cell_type": "code",
   "execution_count": null,
   "outputs": [],
   "source": [
    "new_data = pd.DataFrame({\"date\": [], \"SO2\": [], \"iter\": []})\n",
    "for i in range(len(stations)):\n",
    "    for i2 in range(len(stations[i])):\n",
    "        bo = False\n",
    "        n2 = 0\n",
    "        for j in range(len(new_data)):\n",
    "            n2 += 1\n",
    "            if stations[i][\"تاریخ\"][i2] == new_data[\"date\"][j]:\n",
    "                new_data[\"SO2\"][j] += stations[i][\"SO2 ppb\"][i2]\n",
    "                new_data[\"iter\"][j] += 1\n",
    "                bo = True\n",
    "                break\n",
    "        # print(number_temp == len(data_new) & temp == False)\n",
    "        if n2 == len(new_data) and bo == False:\n",
    "            # print(\"1\")\n",
    "            nd = pd.DataFrame({\"date\": [stations[i][\"تاریخ\"][i2]], \"SO2\": [stations[i][\"SO2 ppb\"][i2]], \"iter\": [1]})\n",
    "            new_data = pd.concat([new_data, nd], ignore_index=True)\n",
    "\n",
    "# print(new_data)\n"
   ],
   "metadata": {
    "collapsed": false,
    "is_executing": true,
    "ExecuteTime": {
     "start_time": "2023-06-30T19:59:31.834133100Z"
    }
   }
  },
  {
   "cell_type": "code",
   "execution_count": null,
   "outputs": [],
   "source": [
    "for i in range(len(new_data)):\n",
    "    new_data[\"SO2\"][i] = new_data[\"SO2\"][i] / new_data[\"iter\"][i]\n",
    "m = np.mean(new_data[\"SO2\"])\n",
    "new_data.fillna(m, inplace=True)\n",
    "print(new_data)"
   ],
   "metadata": {
    "collapsed": false
   }
  },
  {
   "cell_type": "code",
   "execution_count": null,
   "outputs": [],
   "source": [
    "plt.clf()\n",
    "plt.scatter(new_data[\"date\"], new_data[\"SO2\"], edgecolors=\"none\")\n",
    "plt.savefig(\"SO2IR.png\", dpi=300)\n",
    "plt.show()"
   ],
   "metadata": {
    "collapsed": false
   }
  },
  {
   "cell_type": "code",
   "execution_count": null,
   "outputs": [],
   "source": [
    "new_data.to_csv(\"final file.csv\")"
   ],
   "metadata": {
    "collapsed": false
   }
  }
 ],
 "metadata": {
  "kernelspec": {
   "display_name": "Python 3",
   "language": "python",
   "name": "python3"
  },
  "language_info": {
   "codemirror_mode": {
    "name": "ipython",
    "version": 2
   },
   "file_extension": ".py",
   "mimetype": "text/x-python",
   "name": "python",
   "nbconvert_exporter": "python",
   "pygments_lexer": "ipython2",
   "version": "2.7.6"
  }
 },
 "nbformat": 4,
 "nbformat_minor": 0
}
