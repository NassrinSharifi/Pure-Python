{
 "cells": [
  {
   "cell_type": "code",
   "execution_count": 36,
   "metadata": {
    "ExecuteTime": {
     "end_time": "2023-11-13T14:08:17.360841100Z",
     "start_time": "2023-11-13T14:08:17.331353700Z"
    }
   },
   "outputs": [],
   "source": [
    "def f_p(i, n, p=None):\n",
    "    if p:\n",
    "        return p * ((1 + i) ** n)\n",
    "    else:\n",
    "        return (1 + i) ** n\n",
    "\n",
    "\n",
    "def p_f(i, n, f=None):\n",
    "    if f:\n",
    "        return f * (1 / (1 + i) ** n)\n",
    "    else:\n",
    "        return 1 / (1 + i) ** n\n",
    "\n",
    "\n",
    "def p_a(i, n, a=None):\n",
    "    if a:\n",
    "        return a * (((1 + i) ** n - 1) / ((1 + i) ** n * i))\n",
    "    else:\n",
    "        return ((1 + i) ** n - 1) / ((1 + i) ** n * i)\n",
    "\n",
    "\n",
    "def a_p(i, n, p=None):\n",
    "    if p:\n",
    "        return p * (((1 + i) ** n * i) / ((1 + i) ** n - 1))\n",
    "    else:\n",
    "        return ((1 + i) ** n * i) / ((1 + i) ** n - 1)\n",
    "\n",
    "\n",
    "def f_a(i, n, a=None):\n",
    "    if a:\n",
    "        return a * (i / ((1 + i) ** n - 1))\n",
    "    else:\n",
    "        return i / ((1 + i) ** n - 1)\n",
    "\n",
    "\n",
    "def a_f(i, n, f=None):\n",
    "    if f:\n",
    "        return f * (((1 + i) ** n - 1) / i)\n",
    "    else:\n",
    "        return ((1 + i) ** n - 1) / i\n",
    "\n",
    "\n",
    "def p_g(i, n, g=None):\n",
    "    if g:\n",
    "        return g * ((1 / i) * ((((1 + i) ** n - 1) / (i * (1 + i) ** n)) - (n / (1 + i) ** n)))\n",
    "    else:\n",
    "        return (1 / i) * ((((1 + i) ** n - 1) / (i * (1 + i) ** n)) - (n / (1 + i) ** n))\n",
    "\n",
    "\n",
    "def a_g(i, n, g=None):\n",
    "    if g:\n",
    "        return g * ((1 / i) - (n / (((1 + i) ** n) - 1)))\n",
    "    else:\n",
    "        return (1 / i) - (n / (((1 + i) ** n) - 1))\n",
    "\n",
    "\n",
    "def p_a1(i, j, n, a1=None):\n",
    "    if a1:\n",
    "        if i == j:\n",
    "            return a1 * ((n * a1) / (1 + i))\n",
    "        else:\n",
    "            return a1 * ((1 - ((1 + j) ** n) * ((1 + i) ** (-n))) / (i - j))\n",
    "    else:\n",
    "        if i == j:\n",
    "            return (n * a1) / (1 + i)\n",
    "        else:\n",
    "            return (1 - ((1 + j) ** n) * ((1 + i) ** (-n))) / (i - j)\n",
    "\n",
    "\n",
    "def f_a1(i, j, n, a1=None):\n",
    "    if a1:\n",
    "        if i == j:\n",
    "            return a1 * (n * (1 + j) ** (n - 1))\n",
    "        else:\n",
    "            return a1 * ((((1 + i) ** n) - ((1 + j) ** n)) / (i - j))\n",
    "    else:\n",
    "        if i == j:\n",
    "            return n * (1 + j) ** (n - 1)\n",
    "        else:\n",
    "            return (((1 + i) ** n) - ((1 + j) ** n)) / (i - j)\n",
    "\n",
    "\n",
    "def rg(parameters: list):\n",
    "    answer = 1\n",
    "    for i in parameters:\n",
    "        answer *= (i + 1)\n",
    "    return answer ** (1 / len(parameters)) - 1"
   ]
  },
  {
   "cell_type": "code",
   "execution_count": 45,
   "outputs": [],
   "source": [
    "co = f_a1(0.03, 0.02, 30)\n",
    "co2 = a_p(0.03, 25) * co\n",
    "coo = (1.02)**29"
   ],
   "metadata": {
    "collapsed": false,
    "ExecuteTime": {
     "end_time": "2023-11-13T14:18:20.919420200Z",
     "start_time": "2023-11-13T14:18:20.904372200Z"
    }
   }
  },
  {
   "cell_type": "code",
   "execution_count": 46,
   "outputs": [
    {
     "data": {
      "text/plain": "0.39834425735229534"
     },
     "execution_count": 46,
     "metadata": {},
     "output_type": "execute_result"
    }
   ],
   "source": [
    "(0.2*co2)/coo"
   ],
   "metadata": {
    "collapsed": false,
    "ExecuteTime": {
     "end_time": "2023-11-13T14:18:21.293918300Z",
     "start_time": "2023-11-13T14:18:21.285450600Z"
    }
   }
  },
  {
   "cell_type": "code",
   "execution_count": 38,
   "outputs": [
    {
     "data": {
      "text/plain": "1.1241490313825375"
     },
     "execution_count": 38,
     "metadata": {},
     "output_type": "execute_result"
    }
   ],
   "source": [
    "parameters1 = [0.005 for _ in range(12)]\n",
    "parameters2 = [0.01 for _ in range(12)]\n",
    "parameters3 = [0.015 for _ in range(24)]\n",
    "parameters1.extend(parameters2)\n",
    "parameters1.extend(parameters3)\n",
    "rg(parameters1)*100"
   ],
   "metadata": {
    "collapsed": false,
    "ExecuteTime": {
     "end_time": "2023-11-13T14:08:34.874427200Z",
     "start_time": "2023-11-13T14:08:34.844907700Z"
    }
   }
  },
  {
   "cell_type": "code",
   "execution_count": 46,
   "metadata": {
    "ExecuteTime": {
     "end_time": "2023-11-13T18:15:29.336400100Z",
     "start_time": "2023-11-13T18:15:29.319792700Z"
    }
   },
   "outputs": [],
   "source": []
  },
  {
   "cell_type": "code",
   "execution_count": 46,
   "metadata": {
    "ExecuteTime": {
     "end_time": "2023-11-13T18:15:13.702412200Z",
     "start_time": "2023-11-13T18:15:13.685405600Z"
    }
   },
   "outputs": [],
   "source": [
    "\n"
   ]
  },
  {
   "cell_type": "code",
   "execution_count": 46,
   "metadata": {
    "ExecuteTime": {
     "end_time": "2023-11-13T18:15:21.978336300Z",
     "start_time": "2023-11-13T18:15:21.942126700Z"
    }
   },
   "outputs": [],
   "source": []
  },
  {
   "cell_type": "code",
   "execution_count": 46,
   "metadata": {
    "ExecuteTime": {
     "end_time": "2023-11-13T18:15:07.705109400Z",
     "start_time": "2023-11-13T18:15:07.458065500Z"
    }
   },
   "outputs": [],
   "source": [
    "\n"
   ]
  },
  {
   "cell_type": "code",
   "execution_count": 13,
   "metadata": {},
   "outputs": [
    {
     "data": {
      "text/plain": [
       "1093.1567557761339"
      ]
     },
     "execution_count": 13,
     "metadata": {},
     "output_type": "execute_result"
    }
   ],
   "source": [
    "b = a3 + a4 - a1\n",
    "a2 / b"
   ]
  },
  {
   "cell_type": "code",
   "execution_count": 18,
   "metadata": {},
   "outputs": [
    {
     "data": {
      "text/plain": [
       "337620.25826462335"
      ]
     },
     "execution_count": 18,
     "metadata": {},
     "output_type": "execute_result"
    }
   ],
   "source": [
    "a2 = f_p(35000, 0.12, 20)\n",
    "a2"
   ]
  },
  {
   "cell_type": "code",
   "execution_count": 23,
   "metadata": {},
   "outputs": [
    {
     "name": "stdout",
     "output_type": "stream",
     "text": [
      "p:35000.0000489222 , n:40\n"
     ]
    }
   ],
   "source": [
    "p = 35000\n",
    "n = 1\n",
    "while True:\n",
    "    p1 = p_f(3256783.97, 0.12, n)\n",
    "    n += 1\n",
    "    # print(n)\n",
    "    if abs(p1 - p) < 1:\n",
    "        print(f\"p:{p1} , n:{n - 1}\")\n",
    "        break"
   ]
  },
  {
   "cell_type": "code",
   "execution_count": 26,
   "metadata": {},
   "outputs": [
    {
     "data": {
      "text/plain": [
       "2.4883199999999994"
      ]
     },
     "execution_count": 26,
     "metadata": {},
     "output_type": "execute_result"
    }
   ],
   "source": [
    "a = f_p(1, 0.2, 5)\n",
    "a"
   ]
  },
  {
   "cell_type": "code",
   "execution_count": 28,
   "metadata": {},
   "outputs": [
    {
     "data": {
      "text/plain": [
       "2.6008"
      ]
     },
     "execution_count": 28,
     "metadata": {},
     "output_type": "execute_result"
    }
   ],
   "source": [
    "2.488 + 0.2 * (3.052 - 2.488)"
   ]
  },
  {
   "cell_type": "code",
   "execution_count": null,
   "metadata": {},
   "outputs": [],
   "source": []
  }
 ],
 "metadata": {
  "kernelspec": {
   "display_name": "Python 3",
   "language": "python",
   "name": "python3"
  },
  "language_info": {
   "codemirror_mode": {
    "name": "ipython",
    "version": 3
   },
   "file_extension": ".py",
   "mimetype": "text/x-python",
   "name": "python",
   "nbconvert_exporter": "python",
   "pygments_lexer": "ipython3",
   "version": "3.11.5"
  }
 },
 "nbformat": 4,
 "nbformat_minor": 2
}
