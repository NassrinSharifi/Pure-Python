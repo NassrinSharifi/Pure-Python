{
 "cells": [
  {
   "cell_type": "code",
   "execution_count": 1,
   "metadata": {},
   "outputs": [],
   "source": [
    "def f_p(p,i,n):\n",
    "    return p*(1+i)**n\n",
    "def p_f(f,i,n):\n",
    "    return f*(1/(1+i)**n)\n",
    "def p_a(a,i,n):\n",
    "    return a*(((1+i)**n-1)/((1+i)**n * i))\n",
    "def a_p(p,i,n):\n",
    "    return p*(((1+i)**n * i)/((1+i)**n-1))\n",
    "def f_a(a,i,n):\n",
    "    return (i/((1+i)**n-1))\n",
    "def a_f(f,i,n):\n",
    "    return (((1+i)**n-1)/i)"
   ]
  },
  {
   "cell_type": "code",
   "execution_count": 2,
   "metadata": {},
   "outputs": [
    {
     "data": {
      "text/plain": [
       "(1783.2647462277102, 1988.5007617653396, 4384.822266618038)"
      ]
     },
     "execution_count": 2,
     "metadata": {},
     "output_type": "execute_result"
    }
   ],
   "source": [
    "a1=p_a(1000,0.08,2)\n",
    "a2=p_f(p_a(900,0.08,3),0.08,2)\n",
    "a3=p_f(p_a(2500,0.08,3),0.08,5)\n",
    "a1,a2,a3\n",
    "\n"
   ]
  },
  {
   "cell_type": "code",
   "execution_count": 4,
   "metadata": {},
   "outputs": [
    {
     "data": {
      "text/plain": [
       "-3590.0582821556673"
      ]
     },
     "execution_count": 4,
     "metadata": {},
     "output_type": "execute_result"
    }
   ],
   "source": [
    "a1-a2-a3+1000\n"
   ]
  },
  {
   "cell_type": "code",
   "execution_count": 10,
   "metadata": {},
   "outputs": [
    {
     "data": {
      "text/plain": [
       "28166.581132975203"
      ]
     },
     "execution_count": 10,
     "metadata": {},
     "output_type": "execute_result"
    }
   ],
   "source": [
    "x=1\n",
    "a1=p_a(1,0.08,4)\n",
    "a2=p_f(p_a(2,0.08,3),0.08,4)\n",
    "200000/(a1+a2)"
   ]
  },
  {
   "cell_type": "code",
   "execution_count": 16,
   "metadata": {},
   "outputs": [
    {
     "data": {
      "text/plain": [
       "(0.8928571428571428,\n",
       " 1715.5937630154115,\n",
       " 1.5089741253644322,\n",
       " 0.6355180784048311)"
      ]
     },
     "execution_count": 16,
     "metadata": {},
     "output_type": "execute_result"
    }
   ],
   "source": [
    "a1=p_f(1,0.12,1)\n",
    "a2=p_f(p_a(800,0.12,3),0.12,1)\n",
    "a3=p_f(p_a(1,0.12,2),0.12,1)\n",
    "a4=p_f(1,0.12,4)\n",
    "a1,a2,a3,a4\n"
   ]
  },
  {
   "cell_type": "code",
   "execution_count": 13,
   "metadata": {},
   "outputs": [
    {
     "data": {
      "text/plain": [
       "1093.1567557761339"
      ]
     },
     "execution_count": 13,
     "metadata": {},
     "output_type": "execute_result"
    }
   ],
   "source": [
    "b = a3+a4-a1\n",
    "a2/b"
   ]
  },
  {
   "cell_type": "code",
   "execution_count": 18,
   "metadata": {},
   "outputs": [
    {
     "data": {
      "text/plain": [
       "337620.25826462335"
      ]
     },
     "execution_count": 18,
     "metadata": {},
     "output_type": "execute_result"
    }
   ],
   "source": [
    "a2=f_p(35000,0.12,20)\n",
    "a2"
   ]
  },
  {
   "cell_type": "code",
   "execution_count": 23,
   "metadata": {},
   "outputs": [
    {
     "name": "stdout",
     "output_type": "stream",
     "text": [
      "p:35000.0000489222 , n:40\n"
     ]
    }
   ],
   "source": [
    "p=35000\n",
    "n=1\n",
    "while True:\n",
    "    p1=p_f(3256783.97,0.12,n)\n",
    "    n+=1\n",
    "    # print(n)\n",
    "    if abs(p1-p)<1:\n",
    "        print(f\"p:{p1} , n:{n-1}\")\n",
    "        break"
   ]
  },
  {
   "cell_type": "code",
   "execution_count": 26,
   "metadata": {},
   "outputs": [
    {
     "data": {
      "text/plain": [
       "2.4883199999999994"
      ]
     },
     "execution_count": 26,
     "metadata": {},
     "output_type": "execute_result"
    }
   ],
   "source": [
    "a=f_p(1,0.2,5)\n",
    "a"
   ]
  },
  {
   "cell_type": "code",
   "execution_count": 28,
   "metadata": {},
   "outputs": [
    {
     "data": {
      "text/plain": [
       "2.6008"
      ]
     },
     "execution_count": 28,
     "metadata": {},
     "output_type": "execute_result"
    }
   ],
   "source": [
    "2.488+0.2*(3.052-2.488)"
   ]
  },
  {
   "cell_type": "code",
   "execution_count": null,
   "metadata": {},
   "outputs": [],
   "source": []
  }
 ],
 "metadata": {
  "kernelspec": {
   "display_name": "Python 3",
   "language": "python",
   "name": "python3"
  },
  "language_info": {
   "codemirror_mode": {
    "name": "ipython",
    "version": 3
   },
   "file_extension": ".py",
   "mimetype": "text/x-python",
   "name": "python",
   "nbconvert_exporter": "python",
   "pygments_lexer": "ipython3",
   "version": "3.11.5"
  }
 },
 "nbformat": 4,
 "nbformat_minor": 2
}
