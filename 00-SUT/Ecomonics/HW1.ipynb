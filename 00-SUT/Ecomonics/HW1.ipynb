{
 "cells": [
  {
   "cell_type": "code",
   "execution_count": 1,
   "metadata": {
    "ExecuteTime": {
     "end_time": "2023-11-14T03:27:17.377508500Z",
     "start_time": "2023-11-14T03:27:17.365123400Z"
    }
   },
   "outputs": [],
   "source": [
    "def f_p(i: float, n: int, p: float = None) -> float:\n",
    "    \"\"\"produce f from p\"\"\"\n",
    "    if p:\n",
    "        return p * ((1 + i) ** n)\n",
    "    else:\n",
    "        return (1 + i) ** n\n",
    "\n",
    "\n",
    "def p_f(i: float, n: int, f: float = None) -> float:\n",
    "    \"\"\"produce p from f\"\"\"\n",
    "    if f:\n",
    "        return f * (1 / (1 + i) ** n)\n",
    "    else:\n",
    "        return 1 / (1 + i) ** n\n",
    "\n",
    "\n",
    "def p_a(i: float, n: int, a: float = None) -> float:\n",
    "    \"\"\"produce p from a\"\"\"\n",
    "    if a:\n",
    "        return a * (((1 + i) ** n - 1) / ((1 + i) ** n * i))\n",
    "    else:\n",
    "        return ((1 + i) ** n - 1) / ((1 + i) ** n * i)\n",
    "\n",
    "\n",
    "def a_p(i: float, n: int, p: float = None) -> float:\n",
    "    \"\"\"produce a from p\"\"\"\n",
    "    if p:\n",
    "        return p * (((1 + i) ** n * i) / ((1 + i) ** n - 1))\n",
    "    else:\n",
    "        return ((1 + i) ** n * i) / ((1 + i) ** n - 1)\n",
    "\n",
    "\n",
    "def f_a(i: float, n: int, a: float = None) -> float:\n",
    "    \"\"\"produce f from a\"\"\"\n",
    "    if a:\n",
    "        return a * (((1 + i) ** n - 1) / i)\n",
    "    else:\n",
    "        return ((1 + i) ** n - 1) / i\n",
    "\n",
    "\n",
    "def a_f(i: float, n: int, f: float = None) -> float:\n",
    "    \"\"\"produce a from f\"\"\"\n",
    "    if f:\n",
    "        return f * (i / ((1 + i) ** n - 1))\n",
    "    else:\n",
    "        return i / ((1 + i) ** n - 1)\n",
    "\n",
    "\n",
    "def p_g(i: float, n: int, g: float = None) -> float:\n",
    "    \"\"\"produce p from g\"\"\"\n",
    "    if g:\n",
    "        return g * ((1 / i) * ((((1 + i) ** n - 1) / (i * (1 + i) ** n)) - (n / (1 + i) ** n)))\n",
    "    else:\n",
    "        return (1 / i) * ((((1 + i) ** n - 1) / (i * (1 + i) ** n)) - (n / (1 + i) ** n))\n",
    "\n",
    "\n",
    "def a_g(i: float, n: int, g: float = None) -> float:\n",
    "    \"\"\"produce a from g\"\"\"\n",
    "    if g:\n",
    "        return g * ((1 / i) - (n / (((1 + i) ** n) - 1)))\n",
    "    else:\n",
    "        return (1 / i) - (n / (((1 + i) ** n) - 1))\n",
    "\n",
    "\n",
    "def p_a1(i: float, j: float, n: int, a1: float = None) -> float:\n",
    "    \"\"\"produce p from a1\"\"\"\n",
    "    if a1:\n",
    "        if i == j:\n",
    "            return a1 * ((n * a1) / (1 + i))\n",
    "        else:\n",
    "            return a1 * ((1 - ((1 + j) ** n) * ((1 + i) ** (-n))) / (i - j))\n",
    "    else:\n",
    "        if i == j:\n",
    "            return (n * a1) / (1 + i)\n",
    "        else:\n",
    "            return (1 - ((1 + j) ** n) * ((1 + i) ** (-n))) / (i - j)\n",
    "\n",
    "\n",
    "def f_a1(i: float, j: float, n: int, a1: float = None) -> float:\n",
    "    \"\"\"produce f from a1\"\"\"\n",
    "    if a1:\n",
    "        if i == j:\n",
    "            return a1 * (n * (1 + j) ** (n - 1))\n",
    "        else:\n",
    "            return a1 * ((((1 + i) ** n) - ((1 + j) ** n)) / (i - j))\n",
    "    else:\n",
    "        if i == j:\n",
    "            return n * (1 + j) ** (n - 1)\n",
    "        else:\n",
    "            return (((1 + i) ** n) - ((1 + j) ** n)) / (i - j)\n",
    "\n",
    "\n",
    "def rg(parameters: list) -> float:\n",
    "    \"\"\"calculate geometric sequence mean\"\"\"\n",
    "    answer = 1\n",
    "    for i in parameters:\n",
    "        answer *= (i + 1)\n",
    "    return answer ** (1 / len(parameters)) - 1\n",
    "\n",
    "\n",
    "def ie(r: float, m: int) -> float:\n",
    "    \"\"\"produce effective interest rate\"\"\"\n",
    "    return (1 + r / m) ** m - 1\n",
    "\n",
    "\n",
    "def i_from_ie(ie: float, m: int) -> float:\n",
    "    \"\"\"produce interest rate from effective interest rate\"\"\"\n",
    "    return (ie + 1) ** (1 / m) - 1\n"
   ]
  },
  {
   "cell_type": "markdown",
   "source": [
    "# Question 1"
   ],
   "metadata": {
    "collapsed": false
   }
  },
  {
   "cell_type": "code",
   "execution_count": 20,
   "outputs": [
    {
     "data": {
      "text/plain": "342.2147832279493"
     },
     "execution_count": 20,
     "metadata": {},
     "output_type": "execute_result"
    }
   ],
   "source": [
    "#question 1\n",
    "i=0.15\n",
    "p=-100-p_a(i,3,100)+p_f(i,3,p_a(i,3,200))+p_f(i,6,p_a(i,4,300))\n",
    "p"
   ],
   "metadata": {
    "collapsed": false,
    "ExecuteTime": {
     "end_time": "2023-11-14T05:13:25.083963500Z",
     "start_time": "2023-11-14T05:13:24.943691800Z"
    }
   }
  },
  {
   "cell_type": "markdown",
   "source": [
    "# Question 2"
   ],
   "metadata": {
    "collapsed": false
   }
  },
  {
   "cell_type": "code",
   "execution_count": 21,
   "outputs": [
    {
     "data": {
      "text/plain": "716.0379461954744"
     },
     "execution_count": 21,
     "metadata": {},
     "output_type": "execute_result"
    }
   ],
   "source": [
    "i=0.1\n",
    "p2=-100+p_a(i,2,100)+p_f(i,2,p_a(i,2,200))+p_f(i,4,p_a(i,2,300))\n",
    "p2"
   ],
   "metadata": {
    "collapsed": false,
    "ExecuteTime": {
     "end_time": "2023-11-14T05:15:20.819158500Z",
     "start_time": "2023-11-14T05:15:20.802821200Z"
    }
   }
  },
  {
   "cell_type": "code",
   "execution_count": 6,
   "outputs": [
    {
     "data": {
      "text/plain": "16.447393005377716"
     },
     "execution_count": 6,
     "metadata": {},
     "output_type": "execute_result"
    }
   ],
   "source": [
    "co_x=(6-a_g(0.1,6))*p_a(0.1,6)\n",
    "co_x"
   ],
   "metadata": {
    "collapsed": false,
    "ExecuteTime": {
     "end_time": "2023-11-14T04:16:40.295021300Z",
     "start_time": "2023-11-14T04:16:40.091684Z"
    }
   }
  },
  {
   "cell_type": "code",
   "execution_count": 7,
   "metadata": {
    "ExecuteTime": {
     "end_time": "2023-11-14T04:18:36.560781400Z",
     "start_time": "2023-11-14T04:18:36.434012200Z"
    }
   },
   "outputs": [
    {
     "data": {
      "text/plain": "19.39469259032011"
     },
     "execution_count": 7,
     "metadata": {},
     "output_type": "execute_result"
    }
   ],
   "source": [
    "co_y=1+(2+a_g(0.1,6))*p_a(0.1,6)\n",
    "co_y"
   ]
  },
  {
   "cell_type": "markdown",
   "source": [
    "# Question 3"
   ],
   "metadata": {
    "collapsed": false
   }
  },
  {
   "cell_type": "code",
   "execution_count": 22,
   "metadata": {
    "ExecuteTime": {
     "end_time": "2023-11-14T05:18:45.617151Z",
     "start_time": "2023-11-14T05:18:45.195103Z"
    }
   },
   "outputs": [
    {
     "data": {
      "text/plain": "5470.248554805632"
     },
     "execution_count": 22,
     "metadata": {},
     "output_type": "execute_result"
    }
   ],
   "source": [
    "#3-alef\n",
    "i=0.1\n",
    "p8=p_a(i,5,(900+a_g(i,5,300)))\n",
    "p8"
   ]
  },
  {
   "cell_type": "code",
   "execution_count": 10,
   "metadata": {
    "ExecuteTime": {
     "end_time": "2023-11-14T04:31:20.949200Z",
     "start_time": "2023-11-14T04:31:20.820552900Z"
    }
   },
   "outputs": [
    {
     "data": {
      "text/plain": "4092.3059100000028"
     },
     "execution_count": 10,
     "metadata": {},
     "output_type": "execute_result"
    }
   ],
   "source": [
    "#3-b\n",
    "i=0.1\n",
    "j=0.15\n",
    "cost1=f_p(i,8,1000)+f_p(i,7,1000)\n",
    "cost1"
   ]
  },
  {
   "cell_type": "code",
   "execution_count": 11,
   "metadata": {
    "ExecuteTime": {
     "end_time": "2023-11-14T04:32:38.536283700Z",
     "start_time": "2023-11-14T04:32:38.381903600Z"
    }
   },
   "outputs": [
    {
     "data": {
      "text/plain": "10.829995312499967"
     },
     "execution_count": 11,
     "metadata": {},
     "output_type": "execute_result"
    }
   ],
   "source": [
    "co_a3=f_a1(i,j,6)\n",
    "co_a3\n"
   ]
  },
  {
   "cell_type": "code",
   "execution_count": 13,
   "metadata": {
    "ExecuteTime": {
     "end_time": "2023-11-14T04:50:17.911457100Z",
     "start_time": "2023-11-14T04:50:17.496362600Z"
    }
   },
   "outputs": [
    {
     "data": {
      "text/plain": "4239.293635962945"
     },
     "execution_count": 13,
     "metadata": {},
     "output_type": "execute_result"
    }
   ],
   "source": [
    "from math import exp\n",
    "#3-p\n",
    "ie=exp(0.1)-1\n",
    "cost8_part1=1000*(exp(0.1*8)+exp(0.1*7))\n",
    "cost8_part1"
   ]
  },
  {
   "cell_type": "code",
   "execution_count": 14,
   "metadata": {
    "ExecuteTime": {
     "end_time": "2023-11-14T04:51:24.874187800Z",
     "start_time": "2023-11-14T04:51:24.839740600Z"
    }
   },
   "outputs": [
    {
     "data": {
      "text/plain": "(10.951416896356232, 0.15)"
     },
     "execution_count": 14,
     "metadata": {},
     "output_type": "execute_result"
    }
   ],
   "source": [
    "coe_a3=f_a1(ie,j,6)\n",
    "coe_a3 , j"
   ]
  },
  {
   "cell_type": "code",
   "execution_count": 16,
   "metadata": {
    "ExecuteTime": {
     "end_time": "2023-11-14T04:56:49.443386300Z",
     "start_time": "2023-11-14T04:56:49.331135500Z"
    }
   },
   "outputs": [
    {
     "data": {
      "text/plain": "758.1573538816901"
     },
     "execution_count": 16,
     "metadata": {},
     "output_type": "execute_result"
    }
   ],
   "source": [
    "#4-alef\n",
    "alef=p_a(0.1,5,200)\n",
    "alef"
   ]
  },
  {
   "cell_type": "code",
   "execution_count": 19,
   "metadata": {
    "ExecuteTime": {
     "end_time": "2023-11-14T05:03:28.351349700Z",
     "start_time": "2023-11-14T05:03:28.242370100Z"
    }
   },
   "outputs": [
    {
     "data": {
      "text/plain": "749.1164533999412"
     },
     "execution_count": 19,
     "metadata": {},
     "output_type": "execute_result"
    }
   ],
   "source": [
    "#4_b\n",
    "ie=((1+0.1/12)**12)-1\n",
    "benefit=p_a(ie,5,200)\n",
    "benefit"
   ]
  },
  {
   "cell_type": "code",
   "execution_count": 11,
   "metadata": {
    "ExecuteTime": {
     "end_time": "2023-11-14T04:32:52.698247600Z",
     "start_time": "2023-11-14T04:32:52.683564700Z"
    }
   },
   "outputs": [],
   "source": []
  },
  {
   "cell_type": "code",
   "execution_count": null,
   "metadata": {},
   "outputs": [],
   "source": []
  }
 ],
 "metadata": {
  "kernelspec": {
   "display_name": "Python 3",
   "language": "python",
   "name": "python3"
  },
  "language_info": {
   "codemirror_mode": {
    "name": "ipython",
    "version": 3
   },
   "file_extension": ".py",
   "mimetype": "text/x-python",
   "name": "python",
   "nbconvert_exporter": "python",
   "pygments_lexer": "ipython3",
   "version": "3.11.5"
  }
 },
 "nbformat": 4,
 "nbformat_minor": 2
}
