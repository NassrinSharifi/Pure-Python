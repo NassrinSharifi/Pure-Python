{
 "cells": [
  {
   "cell_type": "code",
   "execution_count": 11,
   "id": "initial_id",
   "metadata": {
    "collapsed": true,
    "ExecuteTime": {
     "end_time": "2023-11-25T23:21:26.188540600Z",
     "start_time": "2023-11-25T23:21:25.650043800Z"
    }
   },
   "outputs": [
    {
     "name": "stdout",
     "output_type": "stream",
     "text": [
      "The autoreload extension is already loaded. To reload it, use:\n",
      "  %reload_ext autoreload\n"
     ]
    }
   ],
   "source": [
    "%load_ext autoreload\n",
    "%autoreload 2\n",
    "import Primary_Eco as eco\n",
    "import Continuous_Eco as con"
   ]
  },
  {
   "cell_type": "markdown",
   "source": [
    "### Q1"
   ],
   "metadata": {
    "collapsed": false
   },
   "id": "23b1a5831d44e791"
  },
  {
   "cell_type": "code",
   "execution_count": 8,
   "outputs": [
    {
     "name": "stdout",
     "output_type": "stream",
     "text": [
      "He should deposit 766.64 $ in the bank to have 978.45 in the future\n"
     ]
    }
   ],
   "source": [
    "i = 0.05\n",
    "n = 5\n",
    "g = 30\n",
    "future = eco.f_a(i, n, 120 + eco.a_g(i, n, g))\n",
    "present = eco.p_f(i, n, future)\n",
    "print(f\"He should deposit {present:.2f} $ in the bank to have {future:.2f} in the future\")"
   ],
   "metadata": {
    "collapsed": false,
    "ExecuteTime": {
     "end_time": "2023-11-25T23:10:35.056525600Z",
     "start_time": "2023-11-25T23:10:34.963236200Z"
    }
   },
   "id": "3a2bf773a111275d"
  },
  {
   "cell_type": "markdown",
   "source": [
    "### Q2"
   ],
   "metadata": {
    "collapsed": false
   },
   "id": "8c61fc99974e28c6"
  },
  {
   "cell_type": "code",
   "execution_count": 10,
   "outputs": [
    {
     "name": "stdout",
     "output_type": "stream",
     "text": [
      "The uniform annual payment (A) = 15712.99 $\n"
     ]
    }
   ],
   "source": [
    "i = 0.1\n",
    "n = 4\n",
    "g = -6000\n",
    "annual = 24000 + eco.a_g(i, n, g)\n",
    "print(f\"The uniform annual payment (A) = {annual:.2f} $\")"
   ],
   "metadata": {
    "collapsed": false,
    "ExecuteTime": {
     "end_time": "2023-11-25T23:17:47.423933900Z",
     "start_time": "2023-11-25T23:17:47.230866500Z"
    }
   },
   "id": "c8e68c99f4216f87"
  },
  {
   "cell_type": "markdown",
   "source": [
    "### Q3"
   ],
   "metadata": {
    "collapsed": false
   },
   "id": "8f6d1f8c7f69c4ca"
  },
  {
   "cell_type": "code",
   "execution_count": 14,
   "outputs": [
    {
     "name": "stdout",
     "output_type": "stream",
     "text": [
      "Present Worth : 54809.65 $ \n",
      "Future Worth : 181974.45 $\n"
     ]
    }
   ],
   "source": [
    "r = 0.12\n",
    "n = 10\n",
    "a = 10000\n",
    "present = con.p_a(r, n, a)\n",
    "future = con.f_a(r, n, a)\n",
    "print(f\"Present Worth : {present:.2f} $ \\nFuture Worth : {future:.2f} $\")"
   ],
   "metadata": {
    "collapsed": false,
    "ExecuteTime": {
     "end_time": "2023-11-25T23:29:24.341971100Z",
     "start_time": "2023-11-25T23:29:24.240027700Z"
    }
   },
   "id": "c13184adf6158d98"
  },
  {
   "cell_type": "markdown",
   "source": [
    "### Q4"
   ],
   "metadata": {
    "collapsed": false
   },
   "id": "743d51368c491aee"
  },
  {
   "cell_type": "code",
   "execution_count": 20,
   "outputs": [
    {
     "name": "stdout",
     "output_type": "stream",
     "text": [
      "Cost = 18.39 $\n",
      "Benefit = 8.13 $\n",
      "Not OK :(\n"
     ]
    }
   ],
   "source": [
    "i = 0.1\n",
    "n = 10\n",
    "a = 2\n",
    "p = 6.1\n",
    "f = 15 + p\n",
    "PW1 = eco.p_a(i, n, a) + p\n",
    "PW2 = eco.p_f(i, n, f)\n",
    "if PW1 < PW2:\n",
    "    print(f\"Cost = {PW1:.2f} $\")\n",
    "    print(f\"Benefit = {PW2:.2f} $\")\n",
    "    print(\"OK :)\")\n",
    "else:\n",
    "    print(f\"Cost = {PW1:.2f} $\")\n",
    "    print(f\"Benefit = {PW2:.2f} $\")\n",
    "    print(\"Not OK :(\")"
   ],
   "metadata": {
    "collapsed": false,
    "ExecuteTime": {
     "end_time": "2023-11-25T23:47:53.975226100Z",
     "start_time": "2023-11-25T23:47:53.855398400Z"
    }
   },
   "id": "d25e36ddbecfe221"
  },
  {
   "cell_type": "markdown",
   "source": [
    "### Q5"
   ],
   "metadata": {
    "collapsed": false
   },
   "id": "3f4cb51607527416"
  },
  {
   "cell_type": "code",
   "execution_count": 25,
   "outputs": [
    {
     "name": "stdout",
     "output_type": "stream",
     "text": [
      "NPW1 = 1433.13\n",
      "NPW2 = 2148.47\n",
      "I choose the second one\n"
     ]
    }
   ],
   "source": [
    "i = 0.08\n",
    "p1 = -20000\n",
    "p2 = -30000\n",
    "n = 6\n",
    "a1 = 4500\n",
    "a2 = 6000\n",
    "f1 = 1000\n",
    "f2 = 7000\n",
    "NPW1 = p1 + eco.p_a(i, n, a1) + eco.p_f(i, n, f1)\n",
    "NPW2 = p2 + eco.p_a(i, n, a2) + eco.p_f(i, n, f2)\n",
    "print(f\"NPW1 = {NPW1:.2f}\")\n",
    "print(f\"NPW2 = {NPW2:.2f}\")\n",
    "if NPW1 > NPW2:\n",
    "    print(\"I choose the first one\")\n",
    "else:\n",
    "    print(\"I choose the second one\")"
   ],
   "metadata": {
    "collapsed": false,
    "ExecuteTime": {
     "end_time": "2023-11-26T00:03:56.850441200Z",
     "start_time": "2023-11-26T00:03:56.802231200Z"
    }
   },
   "id": "a97fa5234ccb2b23"
  },
  {
   "cell_type": "markdown",
   "source": [
    "### Q6"
   ],
   "metadata": {
    "collapsed": false
   },
   "id": "6aab749edd62e639"
  },
  {
   "cell_type": "code",
   "execution_count": 29,
   "outputs": [
    {
     "name": "stdout",
     "output_type": "stream",
     "text": [
      "-13574.027641032664\n",
      "NPW1 = -23252.12 $\n",
      "NPW2 = -14347.86 $\n",
      "I choose the second one\n"
     ]
    }
   ],
   "source": [
    "i = 0.07\n",
    "n1 = 5\n",
    "p1 = -15000\n",
    "f1 = 2000\n",
    "n2 = 10\n",
    "p2 = -16000\n",
    "f2 = 3250\n",
    "NPW1 = p1 + eco.p_f(i, n1, f1)\n",
    "print(NPW1)\n",
    "NPW1 = NPW1 + eco.p_f(i, n1, NPW1)\n",
    "NPW2 = p2 + eco.p_f(i, n2, f2)\n",
    "\n",
    "print(f\"NPW1 = {NPW1:.2f} $\\nNPW2 = {NPW2:.2f} $\")\n",
    "if NPW1 > NPW2:\n",
    "    print(\"I choose the first one\")\n",
    "else:\n",
    "    print(\"I choose the second one\")\n",
    "\n"
   ],
   "metadata": {
    "collapsed": false,
    "ExecuteTime": {
     "end_time": "2023-11-26T00:37:48.766820800Z",
     "start_time": "2023-11-26T00:37:48.553081500Z"
    }
   },
   "id": "8ffb01472a34ef88"
  },
  {
   "cell_type": "markdown",
   "source": [
    "### Q7"
   ],
   "metadata": {
    "collapsed": false
   },
   "id": "5f66cb4a28856b49"
  },
  {
   "cell_type": "code",
   "execution_count": 30,
   "outputs": [
    {
     "name": "stdout",
     "output_type": "stream",
     "text": [
      "NAW1 = -2552.19 $\n",
      "NAW2 = -1753.05 $\n",
      "I choose the second one\n"
     ]
    }
   ],
   "source": [
    "i = 0.07\n",
    "n1 = 7\n",
    "p1 = -15000\n",
    "f1 = 2000\n",
    "n2 = 13\n",
    "p2 = -16000\n",
    "f2 = 3250\n",
    "NAW1 = eco.a_p(i, n1, p1) + eco.a_f(i, n1, f1)\n",
    "NAW2 = eco.a_p(i, n2, p2) + eco.a_f(i, n2, f2)\n",
    "print(f\"NAW1 = {NAW1:.2f} $\\nNAW2 = {NAW2:.2f} $\")\n",
    "if NAW1 > NAW2:\n",
    "    print(\"I choose the first one\")\n",
    "else:\n",
    "    print(\"I choose the second one\")"
   ],
   "metadata": {
    "collapsed": false,
    "ExecuteTime": {
     "end_time": "2023-11-26T00:52:52.950462500Z",
     "start_time": "2023-11-26T00:52:52.892113600Z"
    }
   },
   "id": "5b73217b536c3135"
  },
  {
   "cell_type": "markdown",
   "source": [
    "### Q8"
   ],
   "metadata": {
    "collapsed": false
   },
   "id": "1d8d16445e3d0557"
  },
  {
   "cell_type": "code",
   "execution_count": 32,
   "outputs": [
    {
     "name": "stdout",
     "output_type": "stream",
     "text": [
      "NPW:-82886.01\n"
     ]
    }
   ],
   "source": [
    "i = 0.05\n",
    "p = -150000\n",
    "f10 = -50000\n",
    "a4 = -5000\n",
    "a5 = -8000\n",
    "a13 = -15000\n",
    "a = 20000\n",
    "NPW = p + eco.p_f(i, 10, f10) + eco.p_a(i, 4, a4) + eco.p_f(i, 5, a5 / i) + \"eco.p_a(i, 13, a13)\" + a / i\n",
    "print(f\"NPW:{NPW:.2f}\")"
   ],
   "metadata": {
    "collapsed": false,
    "ExecuteTime": {
     "end_time": "2023-11-26T01:13:37.783946800Z",
     "start_time": "2023-11-26T01:13:37.744093100Z"
    }
   },
   "id": "c959cad676227312"
  },
  {
   "cell_type": "markdown",
   "source": [
    "### Q9"
   ],
   "metadata": {
    "collapsed": false
   },
   "id": "abd44c6b524bc2d4"
  },
  {
   "cell_type": "code",
   "execution_count": 37,
   "outputs": [
    {
     "name": "stdout",
     "output_type": "stream",
     "text": [
      "NAC1 = 425000.00\n",
      "NAC2 = 153938.66\n",
      "I choose the second one\n"
     ]
    }
   ],
   "source": [
    "i = 0.05\n",
    "p1 = 8_000_000\n",
    "a1 = 25000\n",
    "p2 = 45000\n",
    "n = 5\n",
    "a2 = 5000\n",
    "NAC1 = p1 * i + a1\n",
    "NAC2 = 10 * (eco.a_p(i, n, p2) + a2)\n",
    "print(f\"NAC1 = {NAC1:.2f}\\nNAC2 = {NAC2:.2f}\")\n",
    "if NAC1 > NAC2:\n",
    "    print(\"I choose the second one\")\n",
    "else:\n",
    "    print(\"I choose the first one\")\n",
    "    "
   ],
   "metadata": {
    "collapsed": false,
    "ExecuteTime": {
     "end_time": "2023-11-26T01:45:43.879862Z",
     "start_time": "2023-11-26T01:45:43.840877300Z"
    }
   },
   "id": "c364d6cfd53fb42d"
  },
  {
   "cell_type": "code",
   "execution_count": null,
   "outputs": [],
   "source": [],
   "metadata": {
    "collapsed": false
   },
   "id": "ba3ba535e3387238"
  }
 ],
 "metadata": {
  "kernelspec": {
   "display_name": "Python 3",
   "language": "python",
   "name": "python3"
  },
  "language_info": {
   "codemirror_mode": {
    "name": "ipython",
    "version": 2
   },
   "file_extension": ".py",
   "mimetype": "text/x-python",
   "name": "python",
   "nbconvert_exporter": "python",
   "pygments_lexer": "ipython2",
   "version": "2.7.6"
  }
 },
 "nbformat": 4,
 "nbformat_minor": 5
}
