{
 "cells": [
  {
   "cell_type": "code",
   "execution_count": 1,
   "id": "initial_id",
   "metadata": {
    "collapsed": true,
    "ExecuteTime": {
     "end_time": "2023-11-25T22:48:06.590936700Z",
     "start_time": "2023-11-25T22:48:06.411348600Z"
    }
   },
   "outputs": [],
   "source": [
    "%load_ext autoreload\n",
    "%autoreload 2\n",
    "import Primary_Eco as eco"
   ]
  },
  {
   "cell_type": "markdown",
   "source": [
    "### Q1"
   ],
   "metadata": {
    "collapsed": false
   },
   "id": "23b1a5831d44e791"
  },
  {
   "cell_type": "code",
   "execution_count": 4,
   "outputs": [
    {
     "ename": "ValueError",
     "evalue": "Invalid format specifier '%.2f' for object of type 'float'",
     "output_type": "error",
     "traceback": [
      "\u001B[1;31m---------------------------------------------------------------------------\u001B[0m",
      "\u001B[1;31mValueError\u001B[0m                                Traceback (most recent call last)",
      "Cell \u001B[1;32mIn[4], line 6\u001B[0m\n\u001B[0;32m      4\u001B[0m future\u001B[38;5;241m=\u001B[39meco\u001B[38;5;241m.\u001B[39mf_a(i,n,\u001B[38;5;241m120\u001B[39m\u001B[38;5;241m+\u001B[39meco\u001B[38;5;241m.\u001B[39ma_g(i,n,g))\n\u001B[0;32m      5\u001B[0m present\u001B[38;5;241m=\u001B[39meco\u001B[38;5;241m.\u001B[39mp_f(i,n,future)\n\u001B[1;32m----> 6\u001B[0m \u001B[38;5;28mprint\u001B[39m(\u001B[38;5;124mf\u001B[39m\u001B[38;5;124m\"\u001B[39m\u001B[38;5;124mHe should deposit \u001B[39m\u001B[38;5;132;01m{\u001B[39;00mpresent\u001B[38;5;132;01m:\u001B[39;00m\u001B[38;5;124m%.2f\u001B[39m\u001B[38;5;132;01m}\u001B[39;00m\u001B[38;5;124m $ in the bank\u001B[39m\u001B[38;5;124m\"\u001B[39m)\n",
      "\u001B[1;31mValueError\u001B[0m: Invalid format specifier '%.2f' for object of type 'float'"
     ]
    }
   ],
   "source": [
    "i=0.05\n",
    "n=5\n",
    "g=30\n",
    "future=eco.f_a(i,n,120+eco.a_g(i,n,g))\n",
    "present=eco.p_f(i,n,future)\n",
    "print(f\"He should deposit {present:%.2f} $ in the bank\")"
   ],
   "metadata": {
    "collapsed": false,
    "ExecuteTime": {
     "end_time": "2023-11-25T22:55:08.911797900Z",
     "start_time": "2023-11-25T22:55:08.800733400Z"
    }
   },
   "id": "3a2bf773a111275d"
  },
  {
   "cell_type": "code",
   "execution_count": null,
   "outputs": [],
   "source": [],
   "metadata": {
    "collapsed": false
   },
   "id": "c8e68c99f4216f87"
  }
 ],
 "metadata": {
  "kernelspec": {
   "display_name": "Python 3",
   "language": "python",
   "name": "python3"
  },
  "language_info": {
   "codemirror_mode": {
    "name": "ipython",
    "version": 2
   },
   "file_extension": ".py",
   "mimetype": "text/x-python",
   "name": "python",
   "nbconvert_exporter": "python",
   "pygments_lexer": "ipython2",
   "version": "2.7.6"
  }
 },
 "nbformat": 4,
 "nbformat_minor": 5
}
