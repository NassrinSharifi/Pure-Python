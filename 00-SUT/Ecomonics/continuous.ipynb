{
 "cells": [
  {
   "cell_type": "code",
   "execution_count": 1,
   "id": "initial_id",
   "metadata": {
    "collapsed": true,
    "ExecuteTime": {
     "end_time": "2023-11-14T02:57:56.932262900Z",
     "start_time": "2023-11-14T02:57:56.930264600Z"
    }
   },
   "outputs": [],
   "source": []
  },
  {
   "cell_type": "markdown",
   "source": [
    "# continue"
   ],
   "metadata": {
    "collapsed": false
   },
   "id": "3b29c17467765b0e"
  },
  {
   "cell_type": "code",
   "execution_count": 1,
   "outputs": [],
   "source": [
    "from math import exp\n",
    "\n",
    "\n",
    "def p_f(r: float, n: int, f: float = None) -> float:\n",
    "    \"\"\"produce p from f\"\"\"\n",
    "    if f:\n",
    "        return f * exp(-r * n)\n",
    "    else:\n",
    "        return exp(-r * n)\n",
    "\n",
    "\n",
    "def f_p(r: float, n: int, p: float = None) -> float:\n",
    "    \"\"\"produce f from p\"\"\"\n",
    "    if p:\n",
    "        return p * exp(r * n)\n",
    "    else:\n",
    "        return exp(r * n)\n",
    "\n",
    "\n",
    "def f_a(r: float, n: int, a: float = None) -> float:\n",
    "    \"\"\"produce f from a\"\"\"\n",
    "    if a:\n",
    "        return a * ((exp(r * n) - 1) / (exp(r) - 1))\n",
    "    else:\n",
    "        return (exp(r * n) - 1) / (exp(r) - 1)\n",
    "\n",
    "\n",
    "def a_f(r: float, n: int, f: float = None) -> float:\n",
    "    \"\"\"produce a from f\"\"\"\n",
    "    if f:\n",
    "        return f * ((exp(r) - 1) / (exp(r * n) - 1))\n",
    "    else:\n",
    "        return (exp(r) - 1) / (exp(r * n) - 1)\n",
    "\n",
    "\n",
    "def p_a(r: float, n: int, a: float = None) -> float:\n",
    "    \"\"\"produce p from a\"\"\"\n",
    "    if a:\n",
    "        return a * ((exp(r * n) - 1) / (exp(r * n) * (exp(r) - 1)))\n",
    "    else:\n",
    "        return (exp(r * n) - 1) / (exp(r * n) * (exp(r) - 1))\n",
    "\n",
    "\n",
    "def a_p(r: float, n: int, p: float = None) -> float:\n",
    "    \"\"\"produce a from p\"\"\"\n",
    "    if p:\n",
    "        return p * ((exp(r * n) * (exp(r) - 1)) / (exp(r * n) - 1))\n",
    "    else:\n",
    "        return (exp(r * n) * (exp(r) - 1)) / (exp(r * n) - 1)\n",
    "\n",
    "\n",
    "def p_g(r: float, n: int, g: float = None) -> float:\n",
    "    \"\"\"produce p from g\"\"\"\n",
    "    if g:\n",
    "        return g * ((exp(r * n) - 1 - n * (exp(r) - 1)) / (exp(r * n) * ((exp(r) - 1) ** 2)))\n",
    "    else:\n",
    "        return (exp(r * n) - 1 - n * (exp(r) - 1)) / (exp(r * n) * ((exp(r) - 1) ** 2))\n",
    "\n",
    "\n",
    "def a_g(r: float, n: int, g: float = None) -> float:\n",
    "    \"\"\"produce a from g\"\"\"\n",
    "    if g:\n",
    "        return g * ((1 / (exp(r) - 1)) - (n / (exp(r * n) - 1)))\n",
    "    else:\n",
    "        return (1 / (exp(r) - 1)) - (n / (exp(r * n) - 1))\n",
    "\n",
    "\n",
    "def ie(r: float) -> float:\n",
    "    \"\"\"produce effective interest rate\"\"\"\n",
    "    return exp(r) - 1\n"
   ],
   "metadata": {
    "collapsed": false,
    "ExecuteTime": {
     "end_time": "2023-11-14T03:27:56.456394200Z",
     "start_time": "2023-11-14T03:27:56.449855500Z"
    }
   },
   "id": "464900e6905d28e7"
  },
  {
   "cell_type": "code",
   "execution_count": 2,
   "outputs": [
    {
     "data": {
      "text/plain": "5388.3483792091865"
     },
     "execution_count": 2,
     "metadata": {},
     "output_type": "execute_result"
    }
   ],
   "source": [
    "#3-p\n",
    "p8=p_a(0.1,5,900)+p_g(0.1,5,300)\n",
    "p8"
   ],
   "metadata": {
    "collapsed": false,
    "ExecuteTime": {
     "end_time": "2023-11-14T04:44:22.977434900Z",
     "start_time": "2023-11-14T04:44:22.632908900Z"
    }
   },
   "id": "b56b8adf47ce546"
  },
  {
   "cell_type": "code",
   "execution_count": 3,
   "outputs": [
    {
     "data": {
      "text/plain": "748.2474195087858"
     },
     "execution_count": 3,
     "metadata": {},
     "output_type": "execute_result"
    }
   ],
   "source": [
    "#4-p\n",
    "r=0.1\n",
    "n=5\n",
    "benefit=p_a(r,n,200)\n",
    "benefit"
   ],
   "metadata": {
    "collapsed": false,
    "ExecuteTime": {
     "end_time": "2023-11-14T05:06:59.836872Z",
     "start_time": "2023-11-14T05:06:59.791611Z"
    }
   },
   "id": "ddbb6a58e0c689dc"
  },
  {
   "cell_type": "code",
   "execution_count": null,
   "outputs": [],
   "source": [],
   "metadata": {
    "collapsed": false
   },
   "id": "3c7e5ad21533ecf5"
  }
 ],
 "metadata": {
  "kernelspec": {
   "display_name": "Python 3",
   "language": "python",
   "name": "python3"
  },
  "language_info": {
   "codemirror_mode": {
    "name": "ipython",
    "version": 2
   },
   "file_extension": ".py",
   "mimetype": "text/x-python",
   "name": "python",
   "nbconvert_exporter": "python",
   "pygments_lexer": "ipython2",
   "version": "2.7.6"
  }
 },
 "nbformat": 4,
 "nbformat_minor": 5
}
